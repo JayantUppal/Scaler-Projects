{
 "cells": [
  {
   "cell_type": "markdown",
   "metadata": {},
   "source": [
    "<h1 style=\"text-align: center;\">Scaler - Clustering</h1><br>\n",
    "\n",
    "![Scaler](scaler.png)\n",
    "\n",
    "<b>Objective</b><br>    \n",
    "    \n",
    "We are tasked to cluster them on the basis of their job profile, company, and other features.\n",
    "    We are focused on profiling the best companies and job positions to work.\n",
    "<br>   \n",
    "    \n",
    "<b>About the Dataset</b>   <br>\n",
    "We are provided with the information for a segment of learners by Scaler, an online tech-versity. \n",
    "    <br>\n",
    "    Working as a data scientist with the analytics vertical of Scaler, we got this dataset from the Scaler database.<br><br>\n",
    "      The dataset contains following features:\n",
    "    <ul>\n",
    "     <li> ‘Unnamed 0’- Index of the dataset\n",
    " <li>   Email_hash- Anonymised Personal Identifiable Information (PII)\n",
    " <li>   Company- Current employer of the learner\n",
    " <li>   orgyear- Employment start date\n",
    " <li>   CTC- Current CTC\n",
    " <li>   Job_position- Job profile in the company\n",
    " <li>   CTC_updated_year: Year in which CTC got updated (Yearly increments, Promotions)\n",
    "\n",
    "</ul><br>\n",
    "There are 206923 data points and 8 features.\n",
    "<br><br>\n",
    "    \n",
    "<b>Concept Used :</b><br>\n",
    "<ul>\n",
    "    <li> Manual Clustering\n",
    "    <li> Unsupervised Clustering - K- means, Hierarchical Clustering\n",
    "</ul>\n",
    "\n",
    "</div>  "
   ]
  },
  {
   "cell_type": "code",
   "execution_count": 1,
   "metadata": {
    "execution": {
     "iopub.execute_input": "2022-03-28T18:26:17.139784Z",
     "iopub.status.busy": "2022-03-28T18:26:17.138708Z",
     "iopub.status.idle": "2022-03-28T18:26:17.152504Z",
     "shell.execute_reply": "2022-03-28T18:26:17.151540Z",
     "shell.execute_reply.started": "2022-03-28T18:26:17.139646Z"
    }
   },
   "outputs": [],
   "source": [
    "import numpy as np \n",
    "import pandas as pd\n",
    "\n",
    "import warnings\n",
    "warnings.filterwarnings(\"ignore\", category=FutureWarning) "
   ]
  },
  {
   "cell_type": "code",
   "execution_count": 2,
   "metadata": {
    "execution": {
     "iopub.execute_input": "2022-03-28T18:26:17.154505Z",
     "iopub.status.busy": "2022-03-28T18:26:17.154223Z",
     "iopub.status.idle": "2022-03-28T18:26:17.672755Z",
     "shell.execute_reply": "2022-03-28T18:26:17.672051Z",
     "shell.execute_reply.started": "2022-03-28T18:26:17.154454Z"
    }
   },
   "outputs": [],
   "source": [
    "import re\n",
    "import seaborn as sns\n",
    "from matplotlib import pyplot as plt"
   ]
  },
  {
   "cell_type": "code",
   "execution_count": 3,
   "metadata": {
    "execution": {
     "iopub.execute_input": "2022-03-28T18:26:17.674327Z",
     "iopub.status.busy": "2022-03-28T18:26:17.673999Z",
     "iopub.status.idle": "2022-03-28T18:26:18.692716Z",
     "shell.execute_reply": "2022-03-28T18:26:18.691739Z",
     "shell.execute_reply.started": "2022-03-28T18:26:17.674299Z"
    }
   },
   "outputs": [],
   "source": [
    "#Reading csv data\n",
    "data = pd.read_csv('https://d2beiqkhq929f0.cloudfront.net/public_assets/assets/000/002/856/original/scaler_clustering.csv')"
   ]
  },
  {
   "cell_type": "code",
   "execution_count": 4,
   "metadata": {
    "execution": {
     "iopub.execute_input": "2022-03-28T18:26:18.694591Z",
     "iopub.status.busy": "2022-03-28T18:26:18.694183Z",
     "iopub.status.idle": "2022-03-28T18:26:18.716492Z",
     "shell.execute_reply": "2022-03-28T18:26:18.715694Z",
     "shell.execute_reply.started": "2022-03-28T18:26:18.694549Z"
    }
   },
   "outputs": [
    {
     "name": "stdout",
     "output_type": "stream",
     "text": [
      "Dimensions of dataset  (205843, 7)\n"
     ]
    },
    {
     "data": {
      "text/html": [
       "<div>\n",
       "<style scoped>\n",
       "    .dataframe tbody tr th:only-of-type {\n",
       "        vertical-align: middle;\n",
       "    }\n",
       "\n",
       "    .dataframe tbody tr th {\n",
       "        vertical-align: top;\n",
       "    }\n",
       "\n",
       "    .dataframe thead th {\n",
       "        text-align: right;\n",
       "    }\n",
       "</style>\n",
       "<table border=\"1\" class=\"dataframe\">\n",
       "  <thead>\n",
       "    <tr style=\"text-align: right;\">\n",
       "      <th></th>\n",
       "      <th>Unnamed: 0</th>\n",
       "      <th>company_hash</th>\n",
       "      <th>email_hash</th>\n",
       "      <th>orgyear</th>\n",
       "      <th>ctc</th>\n",
       "      <th>job_position</th>\n",
       "      <th>ctc_updated_year</th>\n",
       "    </tr>\n",
       "  </thead>\n",
       "  <tbody>\n",
       "    <tr>\n",
       "      <th>0</th>\n",
       "      <td>0</td>\n",
       "      <td>atrgxnnt xzaxv</td>\n",
       "      <td>6de0a4417d18ab14334c3f43397fc13b30c35149d70c05...</td>\n",
       "      <td>2016.0</td>\n",
       "      <td>1100000</td>\n",
       "      <td>Other</td>\n",
       "      <td>2020.0</td>\n",
       "    </tr>\n",
       "    <tr>\n",
       "      <th>1</th>\n",
       "      <td>1</td>\n",
       "      <td>qtrxvzwt xzegwgbb rxbxnta</td>\n",
       "      <td>b0aaf1ac138b53cb6e039ba2c3d6604a250d02d5145c10...</td>\n",
       "      <td>2018.0</td>\n",
       "      <td>449999</td>\n",
       "      <td>FullStack Engineer</td>\n",
       "      <td>2019.0</td>\n",
       "    </tr>\n",
       "    <tr>\n",
       "      <th>2</th>\n",
       "      <td>2</td>\n",
       "      <td>ojzwnvwnxw vx</td>\n",
       "      <td>4860c670bcd48fb96c02a4b0ae3608ae6fdd98176112e9...</td>\n",
       "      <td>2015.0</td>\n",
       "      <td>2000000</td>\n",
       "      <td>Backend Engineer</td>\n",
       "      <td>2020.0</td>\n",
       "    </tr>\n",
       "    <tr>\n",
       "      <th>3</th>\n",
       "      <td>3</td>\n",
       "      <td>ngpgutaxv</td>\n",
       "      <td>effdede7a2e7c2af664c8a31d9346385016128d66bbc58...</td>\n",
       "      <td>2017.0</td>\n",
       "      <td>700000</td>\n",
       "      <td>Backend Engineer</td>\n",
       "      <td>2019.0</td>\n",
       "    </tr>\n",
       "    <tr>\n",
       "      <th>4</th>\n",
       "      <td>4</td>\n",
       "      <td>qxen sqghu</td>\n",
       "      <td>6ff54e709262f55cb999a1c1db8436cb2055d8f79ab520...</td>\n",
       "      <td>2017.0</td>\n",
       "      <td>1400000</td>\n",
       "      <td>FullStack Engineer</td>\n",
       "      <td>2019.0</td>\n",
       "    </tr>\n",
       "  </tbody>\n",
       "</table>\n",
       "</div>"
      ],
      "text/plain": [
       "   Unnamed: 0               company_hash  \\\n",
       "0           0             atrgxnnt xzaxv   \n",
       "1           1  qtrxvzwt xzegwgbb rxbxnta   \n",
       "2           2              ojzwnvwnxw vx   \n",
       "3           3                  ngpgutaxv   \n",
       "4           4                 qxen sqghu   \n",
       "\n",
       "                                          email_hash  orgyear      ctc  \\\n",
       "0  6de0a4417d18ab14334c3f43397fc13b30c35149d70c05...   2016.0  1100000   \n",
       "1  b0aaf1ac138b53cb6e039ba2c3d6604a250d02d5145c10...   2018.0   449999   \n",
       "2  4860c670bcd48fb96c02a4b0ae3608ae6fdd98176112e9...   2015.0  2000000   \n",
       "3  effdede7a2e7c2af664c8a31d9346385016128d66bbc58...   2017.0   700000   \n",
       "4  6ff54e709262f55cb999a1c1db8436cb2055d8f79ab520...   2017.0  1400000   \n",
       "\n",
       "         job_position  ctc_updated_year  \n",
       "0               Other            2020.0  \n",
       "1  FullStack Engineer            2019.0  \n",
       "2    Backend Engineer            2020.0  \n",
       "3    Backend Engineer            2019.0  \n",
       "4  FullStack Engineer            2019.0  "
      ]
     },
     "execution_count": 4,
     "metadata": {},
     "output_type": "execute_result"
    }
   ],
   "source": [
    "print(\"Dimensions of dataset \",data.shape)\n",
    "\n",
    "data.head()"
   ]
  },
  {
   "cell_type": "code",
   "execution_count": 5,
   "metadata": {
    "execution": {
     "iopub.execute_input": "2022-03-28T18:26:18.718666Z",
     "iopub.status.busy": "2022-03-28T18:26:18.718448Z",
     "iopub.status.idle": "2022-03-28T18:26:18.815820Z",
     "shell.execute_reply": "2022-03-28T18:26:18.815064Z",
     "shell.execute_reply.started": "2022-03-28T18:26:18.718641Z"
    }
   },
   "outputs": [
    {
     "name": "stdout",
     "output_type": "stream",
     "text": [
      "<class 'pandas.core.frame.DataFrame'>\n",
      "RangeIndex: 205843 entries, 0 to 205842\n",
      "Data columns (total 7 columns):\n",
      " #   Column            Non-Null Count   Dtype  \n",
      "---  ------            --------------   -----  \n",
      " 0   Unnamed: 0        205843 non-null  int64  \n",
      " 1   company_hash      205799 non-null  object \n",
      " 2   email_hash        205843 non-null  object \n",
      " 3   orgyear           205757 non-null  float64\n",
      " 4   ctc               205843 non-null  int64  \n",
      " 5   job_position      153279 non-null  object \n",
      " 6   ctc_updated_year  205843 non-null  float64\n",
      "dtypes: float64(2), int64(2), object(3)\n",
      "memory usage: 11.0+ MB\n"
     ]
    }
   ],
   "source": [
    "data.info()"
   ]
  },
  {
   "cell_type": "markdown",
   "metadata": {},
   "source": [
    "<b> Checking for Null Values in dataset</b>"
   ]
  },
  {
   "cell_type": "code",
   "execution_count": 6,
   "metadata": {
    "execution": {
     "iopub.execute_input": "2022-03-28T18:26:18.817805Z",
     "iopub.status.busy": "2022-03-28T18:26:18.817319Z",
     "iopub.status.idle": "2022-03-28T18:26:18.911256Z",
     "shell.execute_reply": "2022-03-28T18:26:18.910425Z",
     "shell.execute_reply.started": "2022-03-28T18:26:18.817739Z"
    }
   },
   "outputs": [
    {
     "data": {
      "text/plain": [
       "Unnamed: 0              0\n",
       "company_hash           44\n",
       "email_hash              0\n",
       "orgyear                86\n",
       "ctc                     0\n",
       "job_position        52564\n",
       "ctc_updated_year        0\n",
       "dtype: int64"
      ]
     },
     "execution_count": 6,
     "metadata": {},
     "output_type": "execute_result"
    }
   ],
   "source": [
    "data.isna().sum()"
   ]
  },
  {
   "cell_type": "markdown",
   "metadata": {},
   "source": [
    "<div style=\"display:fill;\n",
    "           border-radius:5px;\n",
    "           background-color:#BDE6ED;\n",
    "           font-size:110%;\n",
    "           font-family:verdana;\n",
    "           letter-spacing:0.5px\">\n",
    "\n",
    "<p style=\"padding: 10px;\n",
    "              color:black;\"> \n",
    "    Data contains null values in 4 columns [company, normalized_company_name, orgyear, job_position].\n",
    "    </p>\n",
    "    </div>"
   ]
  },
  {
   "cell_type": "markdown",
   "metadata": {},
   "source": [
    "<b> Checking for Duplicate Rows in dataset</b>"
   ]
  },
  {
   "cell_type": "code",
   "execution_count": 7,
   "metadata": {
    "execution": {
     "iopub.execute_input": "2022-03-28T18:26:18.912723Z",
     "iopub.status.busy": "2022-03-28T18:26:18.912429Z",
     "iopub.status.idle": "2022-03-28T18:26:19.135175Z",
     "shell.execute_reply": "2022-03-28T18:26:19.134604Z",
     "shell.execute_reply.started": "2022-03-28T18:26:18.912692Z"
    }
   },
   "outputs": [
    {
     "data": {
      "text/plain": [
       "0"
      ]
     },
     "execution_count": 7,
     "metadata": {},
     "output_type": "execute_result"
    }
   ],
   "source": [
    "len(data[data.duplicated()])\n"
   ]
  },
  {
   "cell_type": "markdown",
   "metadata": {},
   "source": [
    "<div style=\"display:fill;\n",
    "           border-radius:5px;\n",
    "           background-color:#BDE6ED;\n",
    "           font-size:110%;\n",
    "           font-family:verdana;\n",
    "           letter-spacing:0.5px\">\n",
    "\n",
    "<p style=\"padding: 10px;\n",
    "              color:black;\"> \n",
    "    Data doesn't contain any duplicate rows.\n",
    "    </p>\n",
    "    </div>"
   ]
  },
  {
   "cell_type": "markdown",
   "metadata": {},
   "source": [
    "<div style=\"font-family:verdana; word-spacing:1.5px;\">\n",
    "<p style=\"background-color:#33e0ff;color:white;text-align:center;font-size:175%;padding: 10px;\"> Data Preprocessing</p>\n",
    "</div>    "
   ]
  },
  {
   "cell_type": "markdown",
   "metadata": {},
   "source": [
    "<b>Checking duplicated PII ids in column email_hash</b>"
   ]
  },
  {
   "cell_type": "code",
   "execution_count": 8,
   "metadata": {
    "execution": {
     "iopub.execute_input": "2022-03-28T18:26:19.136852Z",
     "iopub.status.busy": "2022-03-28T18:26:19.136145Z",
     "iopub.status.idle": "2022-03-28T18:26:19.283930Z",
     "shell.execute_reply": "2022-03-28T18:26:19.283156Z",
     "shell.execute_reply.started": "2022-03-28T18:26:19.136816Z"
    }
   },
   "outputs": [
    {
     "data": {
      "text/plain": [
       "email_hash\n",
       "bbace3cc586400bbc65765bc6a16b77d8913836cfc98b77c05488f02f5714a4b    10\n",
       "6842660273f70e9aa239026ba33bfe82275d6ab0d20124021b952b5bc3d07e6c     9\n",
       "298528ce3160cc761e4dc37a07337ee2e0589df251d73645aae209b010210eee     9\n",
       "3e5e49daa5527a6d5a33599b238bf9bf31e85b9efa9a94f1c88c5e15a6f31378     9\n",
       "b4d5afa09bec8689017d8b29701b80d664ca37b83cb883376b2e95191320da66     8\n",
       "faf40195f8c58d5c7edc758cc725a762d51920da996410b80ac4a4d85c803da0     8\n",
       "4818edfd67ed8563dde5d083306485d91d19f4f1c95d193a1700e79dd245b75c     8\n",
       "c0eb129061675da412b0deb15871dd06ef0d7cd86eb5f7e8cc6a20b0d1938183     8\n",
       "d598d6f1fb21b45593c2afc1c2f76ae9f4cb7167156cdf93246d4192a89d8065     8\n",
       "d15041f58bb01c8ee29f72e33b136e26bc32f3169a40b53d75fe7ae9cbb9a551     8\n",
       "Name: count, dtype: int64"
      ]
     },
     "execution_count": 8,
     "metadata": {},
     "output_type": "execute_result"
    }
   ],
   "source": [
    "data['email_hash'].value_counts().head(10)"
   ]
  },
  {
   "cell_type": "code",
   "execution_count": 9,
   "metadata": {
    "execution": {
     "iopub.execute_input": "2022-03-28T18:26:19.285277Z",
     "iopub.status.busy": "2022-03-28T18:26:19.284994Z",
     "iopub.status.idle": "2022-03-28T18:26:19.384089Z",
     "shell.execute_reply": "2022-03-28T18:26:19.383231Z",
     "shell.execute_reply.started": "2022-03-28T18:26:19.285248Z"
    }
   },
   "outputs": [
    {
     "data": {
      "text/html": [
       "<div>\n",
       "<style scoped>\n",
       "    .dataframe tbody tr th:only-of-type {\n",
       "        vertical-align: middle;\n",
       "    }\n",
       "\n",
       "    .dataframe tbody tr th {\n",
       "        vertical-align: top;\n",
       "    }\n",
       "\n",
       "    .dataframe thead th {\n",
       "        text-align: right;\n",
       "    }\n",
       "</style>\n",
       "<table border=\"1\" class=\"dataframe\">\n",
       "  <thead>\n",
       "    <tr style=\"text-align: right;\">\n",
       "      <th></th>\n",
       "      <th>Unnamed: 0</th>\n",
       "      <th>company_hash</th>\n",
       "      <th>email_hash</th>\n",
       "      <th>orgyear</th>\n",
       "      <th>ctc</th>\n",
       "      <th>job_position</th>\n",
       "      <th>ctc_updated_year</th>\n",
       "    </tr>\n",
       "  </thead>\n",
       "  <tbody>\n",
       "    <tr>\n",
       "      <th>24109</th>\n",
       "      <td>24129</td>\n",
       "      <td>oxej ntwyzgrgsxto rxbxnta</td>\n",
       "      <td>bbace3cc586400bbc65765bc6a16b77d8913836cfc98b7...</td>\n",
       "      <td>2018.0</td>\n",
       "      <td>720000</td>\n",
       "      <td>NaN</td>\n",
       "      <td>2020.0</td>\n",
       "    </tr>\n",
       "    <tr>\n",
       "      <th>45984</th>\n",
       "      <td>46038</td>\n",
       "      <td>oxej ntwyzgrgsxto rxbxnta</td>\n",
       "      <td>bbace3cc586400bbc65765bc6a16b77d8913836cfc98b7...</td>\n",
       "      <td>2018.0</td>\n",
       "      <td>720000</td>\n",
       "      <td>Support Engineer</td>\n",
       "      <td>2020.0</td>\n",
       "    </tr>\n",
       "    <tr>\n",
       "      <th>72315</th>\n",
       "      <td>72415</td>\n",
       "      <td>oxej ntwyzgrgsxto rxbxnta</td>\n",
       "      <td>bbace3cc586400bbc65765bc6a16b77d8913836cfc98b7...</td>\n",
       "      <td>2018.0</td>\n",
       "      <td>720000</td>\n",
       "      <td>Other</td>\n",
       "      <td>2020.0</td>\n",
       "    </tr>\n",
       "    <tr>\n",
       "      <th>102915</th>\n",
       "      <td>103145</td>\n",
       "      <td>oxej ntwyzgrgsxto rxbxnta</td>\n",
       "      <td>bbace3cc586400bbc65765bc6a16b77d8913836cfc98b7...</td>\n",
       "      <td>2018.0</td>\n",
       "      <td>720000</td>\n",
       "      <td>FullStack Engineer</td>\n",
       "      <td>2020.0</td>\n",
       "    </tr>\n",
       "    <tr>\n",
       "      <th>117764</th>\n",
       "      <td>118076</td>\n",
       "      <td>oxej ntwyzgrgsxto rxbxnta</td>\n",
       "      <td>bbace3cc586400bbc65765bc6a16b77d8913836cfc98b7...</td>\n",
       "      <td>2018.0</td>\n",
       "      <td>720000</td>\n",
       "      <td>Data Analyst</td>\n",
       "      <td>2020.0</td>\n",
       "    </tr>\n",
       "    <tr>\n",
       "      <th>121483</th>\n",
       "      <td>121825</td>\n",
       "      <td>oxej ntwyzgrgsxto rxbxnta</td>\n",
       "      <td>bbace3cc586400bbc65765bc6a16b77d8913836cfc98b7...</td>\n",
       "      <td>2018.0</td>\n",
       "      <td>660000</td>\n",
       "      <td>Other</td>\n",
       "      <td>2019.0</td>\n",
       "    </tr>\n",
       "    <tr>\n",
       "      <th>124476</th>\n",
       "      <td>124840</td>\n",
       "      <td>oxej ntwyzgrgsxto rxbxnta</td>\n",
       "      <td>bbace3cc586400bbc65765bc6a16b77d8913836cfc98b7...</td>\n",
       "      <td>2018.0</td>\n",
       "      <td>660000</td>\n",
       "      <td>Support Engineer</td>\n",
       "      <td>2019.0</td>\n",
       "    </tr>\n",
       "    <tr>\n",
       "      <th>144479</th>\n",
       "      <td>145021</td>\n",
       "      <td>oxej ntwyzgrgsxto rxbxnta</td>\n",
       "      <td>bbace3cc586400bbc65765bc6a16b77d8913836cfc98b7...</td>\n",
       "      <td>2018.0</td>\n",
       "      <td>660000</td>\n",
       "      <td>FullStack Engineer</td>\n",
       "      <td>2019.0</td>\n",
       "    </tr>\n",
       "    <tr>\n",
       "      <th>152801</th>\n",
       "      <td>153402</td>\n",
       "      <td>oxej ntwyzgrgsxto rxbxnta</td>\n",
       "      <td>bbace3cc586400bbc65765bc6a16b77d8913836cfc98b7...</td>\n",
       "      <td>2018.0</td>\n",
       "      <td>660000</td>\n",
       "      <td>Devops Engineer</td>\n",
       "      <td>2019.0</td>\n",
       "    </tr>\n",
       "    <tr>\n",
       "      <th>159835</th>\n",
       "      <td>160472</td>\n",
       "      <td>oxej ntwyzgrgsxto rxbxnta</td>\n",
       "      <td>bbace3cc586400bbc65765bc6a16b77d8913836cfc98b7...</td>\n",
       "      <td>2018.0</td>\n",
       "      <td>660000</td>\n",
       "      <td>NaN</td>\n",
       "      <td>2019.0</td>\n",
       "    </tr>\n",
       "  </tbody>\n",
       "</table>\n",
       "</div>"
      ],
      "text/plain": [
       "        Unnamed: 0               company_hash  \\\n",
       "24109        24129  oxej ntwyzgrgsxto rxbxnta   \n",
       "45984        46038  oxej ntwyzgrgsxto rxbxnta   \n",
       "72315        72415  oxej ntwyzgrgsxto rxbxnta   \n",
       "102915      103145  oxej ntwyzgrgsxto rxbxnta   \n",
       "117764      118076  oxej ntwyzgrgsxto rxbxnta   \n",
       "121483      121825  oxej ntwyzgrgsxto rxbxnta   \n",
       "124476      124840  oxej ntwyzgrgsxto rxbxnta   \n",
       "144479      145021  oxej ntwyzgrgsxto rxbxnta   \n",
       "152801      153402  oxej ntwyzgrgsxto rxbxnta   \n",
       "159835      160472  oxej ntwyzgrgsxto rxbxnta   \n",
       "\n",
       "                                               email_hash  orgyear     ctc  \\\n",
       "24109   bbace3cc586400bbc65765bc6a16b77d8913836cfc98b7...   2018.0  720000   \n",
       "45984   bbace3cc586400bbc65765bc6a16b77d8913836cfc98b7...   2018.0  720000   \n",
       "72315   bbace3cc586400bbc65765bc6a16b77d8913836cfc98b7...   2018.0  720000   \n",
       "102915  bbace3cc586400bbc65765bc6a16b77d8913836cfc98b7...   2018.0  720000   \n",
       "117764  bbace3cc586400bbc65765bc6a16b77d8913836cfc98b7...   2018.0  720000   \n",
       "121483  bbace3cc586400bbc65765bc6a16b77d8913836cfc98b7...   2018.0  660000   \n",
       "124476  bbace3cc586400bbc65765bc6a16b77d8913836cfc98b7...   2018.0  660000   \n",
       "144479  bbace3cc586400bbc65765bc6a16b77d8913836cfc98b7...   2018.0  660000   \n",
       "152801  bbace3cc586400bbc65765bc6a16b77d8913836cfc98b7...   2018.0  660000   \n",
       "159835  bbace3cc586400bbc65765bc6a16b77d8913836cfc98b7...   2018.0  660000   \n",
       "\n",
       "              job_position  ctc_updated_year  \n",
       "24109                  NaN            2020.0  \n",
       "45984     Support Engineer            2020.0  \n",
       "72315                Other            2020.0  \n",
       "102915  FullStack Engineer            2020.0  \n",
       "117764        Data Analyst            2020.0  \n",
       "121483               Other            2019.0  \n",
       "124476    Support Engineer            2019.0  \n",
       "144479  FullStack Engineer            2019.0  \n",
       "152801     Devops Engineer            2019.0  \n",
       "159835                 NaN            2019.0  "
      ]
     },
     "metadata": {},
     "output_type": "display_data"
    },
    {
     "data": {
      "text/html": [
       "<div>\n",
       "<style scoped>\n",
       "    .dataframe tbody tr th:only-of-type {\n",
       "        vertical-align: middle;\n",
       "    }\n",
       "\n",
       "    .dataframe tbody tr th {\n",
       "        vertical-align: top;\n",
       "    }\n",
       "\n",
       "    .dataframe thead th {\n",
       "        text-align: right;\n",
       "    }\n",
       "</style>\n",
       "<table border=\"1\" class=\"dataframe\">\n",
       "  <thead>\n",
       "    <tr style=\"text-align: right;\">\n",
       "      <th></th>\n",
       "      <th>Unnamed: 0</th>\n",
       "      <th>company_hash</th>\n",
       "      <th>email_hash</th>\n",
       "      <th>orgyear</th>\n",
       "      <th>ctc</th>\n",
       "      <th>job_position</th>\n",
       "      <th>ctc_updated_year</th>\n",
       "    </tr>\n",
       "  </thead>\n",
       "  <tbody>\n",
       "    <tr>\n",
       "      <th>9857</th>\n",
       "      <td>9859</td>\n",
       "      <td>ihvrwgbb</td>\n",
       "      <td>6842660273f70e9aa239026ba33bfe82275d6ab0d20124...</td>\n",
       "      <td>2017.0</td>\n",
       "      <td>2400000</td>\n",
       "      <td>QA Engineer</td>\n",
       "      <td>2020.0</td>\n",
       "    </tr>\n",
       "    <tr>\n",
       "      <th>10002</th>\n",
       "      <td>10006</td>\n",
       "      <td>ihvrwgbb</td>\n",
       "      <td>6842660273f70e9aa239026ba33bfe82275d6ab0d20124...</td>\n",
       "      <td>2017.0</td>\n",
       "      <td>2400000</td>\n",
       "      <td>Devops Engineer</td>\n",
       "      <td>2020.0</td>\n",
       "    </tr>\n",
       "    <tr>\n",
       "      <th>10583</th>\n",
       "      <td>10587</td>\n",
       "      <td>ihvrwgbb</td>\n",
       "      <td>6842660273f70e9aa239026ba33bfe82275d6ab0d20124...</td>\n",
       "      <td>2017.0</td>\n",
       "      <td>2400000</td>\n",
       "      <td>Backend Engineer</td>\n",
       "      <td>2020.0</td>\n",
       "    </tr>\n",
       "    <tr>\n",
       "      <th>12784</th>\n",
       "      <td>12793</td>\n",
       "      <td>ihvrwgbb</td>\n",
       "      <td>6842660273f70e9aa239026ba33bfe82275d6ab0d20124...</td>\n",
       "      <td>2017.0</td>\n",
       "      <td>2400000</td>\n",
       "      <td>Other</td>\n",
       "      <td>2020.0</td>\n",
       "    </tr>\n",
       "    <tr>\n",
       "      <th>20715</th>\n",
       "      <td>20729</td>\n",
       "      <td>ihvrwgbb</td>\n",
       "      <td>6842660273f70e9aa239026ba33bfe82275d6ab0d20124...</td>\n",
       "      <td>2017.0</td>\n",
       "      <td>2400000</td>\n",
       "      <td>SDET</td>\n",
       "      <td>2020.0</td>\n",
       "    </tr>\n",
       "    <tr>\n",
       "      <th>138253</th>\n",
       "      <td>138731</td>\n",
       "      <td>ihvrwgbb</td>\n",
       "      <td>6842660273f70e9aa239026ba33bfe82275d6ab0d20124...</td>\n",
       "      <td>2017.0</td>\n",
       "      <td>2000000</td>\n",
       "      <td>SDET</td>\n",
       "      <td>2020.0</td>\n",
       "    </tr>\n",
       "    <tr>\n",
       "      <th>159251</th>\n",
       "      <td>159887</td>\n",
       "      <td>ihvrwgbb</td>\n",
       "      <td>6842660273f70e9aa239026ba33bfe82275d6ab0d20124...</td>\n",
       "      <td>2017.0</td>\n",
       "      <td>2000000</td>\n",
       "      <td>Devops Engineer</td>\n",
       "      <td>2020.0</td>\n",
       "    </tr>\n",
       "    <tr>\n",
       "      <th>165343</th>\n",
       "      <td>166040</td>\n",
       "      <td>ihvrwgbb</td>\n",
       "      <td>6842660273f70e9aa239026ba33bfe82275d6ab0d20124...</td>\n",
       "      <td>2017.0</td>\n",
       "      <td>2000000</td>\n",
       "      <td>Other</td>\n",
       "      <td>2020.0</td>\n",
       "    </tr>\n",
       "    <tr>\n",
       "      <th>178749</th>\n",
       "      <td>179593</td>\n",
       "      <td>ihvrwgbb</td>\n",
       "      <td>6842660273f70e9aa239026ba33bfe82275d6ab0d20124...</td>\n",
       "      <td>2017.0</td>\n",
       "      <td>2000000</td>\n",
       "      <td>Backend Engineer</td>\n",
       "      <td>2020.0</td>\n",
       "    </tr>\n",
       "  </tbody>\n",
       "</table>\n",
       "</div>"
      ],
      "text/plain": [
       "        Unnamed: 0 company_hash  \\\n",
       "9857          9859     ihvrwgbb   \n",
       "10002        10006     ihvrwgbb   \n",
       "10583        10587     ihvrwgbb   \n",
       "12784        12793     ihvrwgbb   \n",
       "20715        20729     ihvrwgbb   \n",
       "138253      138731     ihvrwgbb   \n",
       "159251      159887     ihvrwgbb   \n",
       "165343      166040     ihvrwgbb   \n",
       "178749      179593     ihvrwgbb   \n",
       "\n",
       "                                               email_hash  orgyear      ctc  \\\n",
       "9857    6842660273f70e9aa239026ba33bfe82275d6ab0d20124...   2017.0  2400000   \n",
       "10002   6842660273f70e9aa239026ba33bfe82275d6ab0d20124...   2017.0  2400000   \n",
       "10583   6842660273f70e9aa239026ba33bfe82275d6ab0d20124...   2017.0  2400000   \n",
       "12784   6842660273f70e9aa239026ba33bfe82275d6ab0d20124...   2017.0  2400000   \n",
       "20715   6842660273f70e9aa239026ba33bfe82275d6ab0d20124...   2017.0  2400000   \n",
       "138253  6842660273f70e9aa239026ba33bfe82275d6ab0d20124...   2017.0  2000000   \n",
       "159251  6842660273f70e9aa239026ba33bfe82275d6ab0d20124...   2017.0  2000000   \n",
       "165343  6842660273f70e9aa239026ba33bfe82275d6ab0d20124...   2017.0  2000000   \n",
       "178749  6842660273f70e9aa239026ba33bfe82275d6ab0d20124...   2017.0  2000000   \n",
       "\n",
       "            job_position  ctc_updated_year  \n",
       "9857         QA Engineer            2020.0  \n",
       "10002    Devops Engineer            2020.0  \n",
       "10583   Backend Engineer            2020.0  \n",
       "12784              Other            2020.0  \n",
       "20715               SDET            2020.0  \n",
       "138253              SDET            2020.0  \n",
       "159251   Devops Engineer            2020.0  \n",
       "165343             Other            2020.0  \n",
       "178749  Backend Engineer            2020.0  "
      ]
     },
     "metadata": {},
     "output_type": "display_data"
    }
   ],
   "source": [
    "display(data[data['email_hash'] == 'bbace3cc586400bbc65765bc6a16b77d8913836cfc98b77c05488f02f5714a4b'])\n",
    "display(data[data['email_hash'] == '6842660273f70e9aa239026ba33bfe82275d6ab0d20124021b952b5bc3d07e6c'])"
   ]
  },
  {
   "cell_type": "markdown",
   "metadata": {},
   "source": [
    "<div style=\"display:fill;\n",
    "           border-radius:5px;\n",
    "           background-color:#BDE6ED;\n",
    "           font-size:110%;\n",
    "           font-family:verdana;\n",
    "           letter-spacing:0.5px\">\n",
    "\n",
    "<p style=\"padding: 10px;\n",
    "              color:black;\"> \n",
    "    Apparently for single Anonymised Personal Identifiable Information (PII) id there exists multiple rows with same joining dates and company but different job positions, this couldn't be possible.<br><bbr>\n",
    "    We will take the first row in case of duplicated PII ids.\n",
    "    </p>\n",
    "    </div>"
   ]
  },
  {
   "cell_type": "code",
   "execution_count": 10,
   "metadata": {
    "execution": {
     "iopub.execute_input": "2022-03-28T18:26:19.385468Z",
     "iopub.status.busy": "2022-03-28T18:26:19.385230Z",
     "iopub.status.idle": "2022-03-28T18:26:19.890647Z",
     "shell.execute_reply": "2022-03-28T18:26:19.889661Z",
     "shell.execute_reply.started": "2022-03-28T18:26:19.385441Z"
    }
   },
   "outputs": [],
   "source": [
    "data = data.groupby('email_hash').first().reset_index()"
   ]
  },
  {
   "cell_type": "markdown",
   "metadata": {},
   "source": [
    "<b>Creating null value indicator columns (Feature Engineering)</b>"
   ]
  },
  {
   "cell_type": "code",
   "execution_count": 11,
   "metadata": {
    "execution": {
     "iopub.execute_input": "2022-03-28T18:26:19.892679Z",
     "iopub.status.busy": "2022-03-28T18:26:19.892361Z",
     "iopub.status.idle": "2022-03-28T18:26:19.947105Z",
     "shell.execute_reply": "2022-03-28T18:26:19.946482Z",
     "shell.execute_reply.started": "2022-03-28T18:26:19.892638Z"
    }
   },
   "outputs": [],
   "source": [
    "for i in ['orgyear','ctc_updated_year','company_hash','job_position']:\n",
    "    data[i+'_na'] = data[i].isna()"
   ]
  },
  {
   "cell_type": "markdown",
   "metadata": {},
   "source": [
    "<b>Cleaning text columns</b>"
   ]
  },
  {
   "cell_type": "code",
   "execution_count": 12,
   "metadata": {
    "execution": {
     "iopub.execute_input": "2022-03-28T18:26:19.949090Z",
     "iopub.status.busy": "2022-03-28T18:26:19.948604Z",
     "iopub.status.idle": "2022-03-28T18:26:20.840595Z",
     "shell.execute_reply": "2022-03-28T18:26:20.839669Z",
     "shell.execute_reply.started": "2022-03-28T18:26:19.949048Z"
    }
   },
   "outputs": [],
   "source": [
    "text_cols = ['company_hash']\n",
    "for i in text_cols:\n",
    "    data[i] = data[i].fillna('Not Available').apply(lambda x: re.sub('[^A-Za-z0-9 ]+', '', str(x).title()))"
   ]
  },
  {
   "cell_type": "markdown",
   "metadata": {},
   "source": [
    "<b>Creating new columns (Feature Engineering)</b>"
   ]
  },
  {
   "cell_type": "code",
   "execution_count": 13,
   "metadata": {
    "execution": {
     "iopub.execute_input": "2022-03-28T18:26:20.842067Z",
     "iopub.status.busy": "2022-03-28T18:26:20.841812Z",
     "iopub.status.idle": "2022-03-28T18:26:20.849646Z",
     "shell.execute_reply": "2022-03-28T18:26:20.848811Z",
     "shell.execute_reply.started": "2022-03-28T18:26:20.842038Z"
    }
   },
   "outputs": [],
   "source": [
    "data['YoE'] = data['ctc_updated_year'] - data['orgyear']"
   ]
  },
  {
   "cell_type": "markdown",
   "metadata": {},
   "source": [
    "<b>Frequency mean encoding</b>"
   ]
  },
  {
   "cell_type": "code",
   "execution_count": 14,
   "metadata": {
    "execution": {
     "iopub.execute_input": "2022-03-28T18:26:20.853418Z",
     "iopub.status.busy": "2022-03-28T18:26:20.853208Z",
     "iopub.status.idle": "2022-03-28T18:26:22.755153Z",
     "shell.execute_reply": "2022-03-28T18:26:22.754217Z",
     "shell.execute_reply.started": "2022-03-28T18:26:20.853394Z"
    }
   },
   "outputs": [],
   "source": [
    "feat = 'company_hash'\n",
    "data[feat] = data[feat].fillna('na')\n",
    "enc_nom = (data.groupby(feat).size()) / len(data)\n",
    "data[feat+'_encode'] = data[feat].apply(lambda x : enc_nom[x])\n",
    "\n",
    "feat = 'job_position'\n",
    "data[feat] = data[feat].fillna('na')\n",
    "enc_nom = (data.groupby(feat).size()) / len(data)*10000\n",
    "data[feat+'_encode'] = data[feat].apply(lambda x : enc_nom[x])\n"
   ]
  },
  {
   "cell_type": "markdown",
   "metadata": {},
   "source": [
    "<b>Reemoving Outliers from Orgyear column</b>"
   ]
  },
  {
   "cell_type": "code",
   "execution_count": 15,
   "metadata": {
    "execution": {
     "iopub.execute_input": "2022-03-28T18:26:22.756826Z",
     "iopub.status.busy": "2022-03-28T18:26:22.756467Z",
     "iopub.status.idle": "2022-03-28T18:26:22.766428Z",
     "shell.execute_reply": "2022-03-28T18:26:22.765577Z",
     "shell.execute_reply.started": "2022-03-28T18:26:22.756798Z"
    }
   },
   "outputs": [
    {
     "data": {
      "text/plain": [
       "[0,\n",
       " 1,\n",
       " 2,\n",
       " 3,\n",
       " 4,\n",
       " 5,\n",
       " 6,\n",
       " 38,\n",
       " 83,\n",
       " 91,\n",
       " 200,\n",
       " 201,\n",
       " 206,\n",
       " 208,\n",
       " 209,\n",
       " 1900,\n",
       " 1970,\n",
       " 1971,\n",
       " 1972,\n",
       " 1973,\n",
       " 1976,\n",
       " 1977,\n",
       " 1979,\n",
       " 1981,\n",
       " 1982,\n",
       " 1984,\n",
       " 1985,\n",
       " 1986,\n",
       " 1987,\n",
       " 1988,\n",
       " 1989,\n",
       " 1990,\n",
       " 1991,\n",
       " 1992,\n",
       " 1993,\n",
       " 1994,\n",
       " 1995,\n",
       " 1996,\n",
       " 1997,\n",
       " 1998,\n",
       " 1999,\n",
       " 2000,\n",
       " 2001,\n",
       " 2002,\n",
       " 2003,\n",
       " 2004,\n",
       " 2005,\n",
       " 2006,\n",
       " 2007,\n",
       " 2008,\n",
       " 2009,\n",
       " 2010,\n",
       " 2011,\n",
       " 2012,\n",
       " 2013,\n",
       " 2014,\n",
       " 2015,\n",
       " 2016,\n",
       " 2017,\n",
       " 2018,\n",
       " 2019,\n",
       " 2020,\n",
       " 2021,\n",
       " 2022,\n",
       " 2023,\n",
       " 2024,\n",
       " 2025,\n",
       " 2026,\n",
       " 2027,\n",
       " 2028,\n",
       " 2029,\n",
       " 2031,\n",
       " 2101,\n",
       " 2106,\n",
       " 2107,\n",
       " 2204,\n",
       " 20165]"
      ]
     },
     "execution_count": 15,
     "metadata": {},
     "output_type": "execute_result"
    }
   ],
   "source": [
    "sorted(data['orgyear'].fillna(0).astype(int).unique())"
   ]
  },
  {
   "cell_type": "markdown",
   "metadata": {},
   "source": [
    "Removing future years, as this case is impossible to happen, also removing single digit years."
   ]
  },
  {
   "cell_type": "code",
   "execution_count": 16,
   "metadata": {
    "execution": {
     "iopub.execute_input": "2022-03-28T18:26:22.767818Z",
     "iopub.status.busy": "2022-03-28T18:26:22.767505Z",
     "iopub.status.idle": "2022-03-28T18:26:22.835671Z",
     "shell.execute_reply": "2022-03-28T18:26:22.834778Z",
     "shell.execute_reply.started": "2022-03-28T18:26:22.767788Z"
    }
   },
   "outputs": [],
   "source": [
    "data = data[~data['orgyear'].isin([0,\n",
    " 1,\n",
    " 2,\n",
    " 3,\n",
    " 4,\n",
    " 5,\n",
    " 6,\n",
    " 38,\n",
    " 83,\n",
    " 91,\n",
    " 200,\n",
    " 201,\n",
    " 206,\n",
    " 208,\n",
    " 209,\n",
    " 1900, 2023,\n",
    " 2024,\n",
    " 2025,\n",
    " 2026,\n",
    " 2027,\n",
    " 2028,\n",
    " 2029,\n",
    " 2031,\n",
    " 2101,\n",
    " 2106,\n",
    " 2107,\n",
    " 2204,\n",
    " 20165])]"
   ]
  },
  {
   "cell_type": "code",
   "execution_count": 17,
   "metadata": {
    "execution": {
     "iopub.execute_input": "2022-03-28T18:26:22.838070Z",
     "iopub.status.busy": "2022-03-28T18:26:22.837040Z",
     "iopub.status.idle": "2022-03-28T18:26:22.864443Z",
     "shell.execute_reply": "2022-03-28T18:26:22.863823Z",
     "shell.execute_reply.started": "2022-03-28T18:26:22.838025Z"
    }
   },
   "outputs": [],
   "source": [
    "data = data[~(data['YoE']<0)]"
   ]
  },
  {
   "cell_type": "markdown",
   "metadata": {},
   "source": [
    "<div style=\"font-family:verdana; word-spacing:1.5px;\">\n",
    "<p style=\"background-color:#33e0ff;color:white;text-align:center;font-size:175%;padding: 10px;\">EDA</p>\n",
    "</div>    "
   ]
  },
  {
   "cell_type": "markdown",
   "metadata": {},
   "source": [
    "<div style=\"font-family:verdana; word-spacing:1.5px;\">\n",
    "    <p style=\"text-align:center;font-size:125%;padding: 10px;\"><b>Univariate Analysis</b></p>\n",
    "    </div>"
   ]
  },
  {
   "cell_type": "markdown",
   "metadata": {},
   "source": [
    "<b>Plotting Categorical Features</b>"
   ]
  },
  {
   "cell_type": "code",
   "execution_count": 18,
   "metadata": {
    "execution": {
     "iopub.execute_input": "2022-03-28T18:26:22.866303Z",
     "iopub.status.busy": "2022-03-28T18:26:22.865661Z",
     "iopub.status.idle": "2022-03-28T18:26:22.871094Z",
     "shell.execute_reply": "2022-03-28T18:26:22.870070Z",
     "shell.execute_reply.started": "2022-03-28T18:26:22.866253Z"
    }
   },
   "outputs": [],
   "source": [
    "categroical_columns = ['company_hash','job_position','orgyear','ctc_updated_year']"
   ]
  },
  {
   "cell_type": "code",
   "execution_count": 19,
   "metadata": {
    "execution": {
     "iopub.execute_input": "2022-03-28T18:26:22.873012Z",
     "iopub.status.busy": "2022-03-28T18:26:22.872379Z",
     "iopub.status.idle": "2022-03-28T18:26:24.725159Z",
     "shell.execute_reply": "2022-03-28T18:26:24.724299Z",
     "shell.execute_reply.started": "2022-03-28T18:26:22.872971Z"
    }
   },
   "outputs": [
    {
     "data": {
      "image/png": "[encoded data removed]",
      "text/plain": [
       "<Figure size 1800x576 with 1 Axes>"
      ]
     },
     "metadata": {
      "needs_background": "light"
     },
     "output_type": "display_data"
    },
    {
     "data": {
      "image/png": "[encoded data removed]",
      "text/plain": [
       "<Figure size 1800x576 with 1 Axes>"
      ]
     },
     "metadata": {
      "needs_background": "light"
     },
     "output_type": "display_data"
    },
    {
     "data": {
      "image/png": "[encoded data removed]",
      "text/plain": [
       "<Figure size 1800x576 with 1 Axes>"
      ]
     },
     "metadata": {
      "needs_background": "light"
     },
     "output_type": "display_data"
    },
    {
     "data": {
      "image/png": "[encoded data removed]",
      "text/plain": [
       "<Figure size 1800x576 with 1 Axes>"
      ]
     },
     "metadata": {
      "needs_background": "light"
     },
     "output_type": "display_data"
    }
   ],
   "source": [
    "for i in categroical_columns:\n",
    "    tmp = data.copy()\n",
    "    tmp['count'] = 1\n",
    "    tmp = tmp.groupby(i).sum()['count'].reset_index().sort_values('count',ascending=False).head(15)\n",
    "    plt.figure(figsize=(25,8))\n",
    "    sns.barplot(data=tmp,y='count',x=i).set(title=i)\n",
    "    \n",
    "    plt.show()\n",
    "    "
   ]
  },
  {
   "cell_type": "markdown",
   "metadata": {},
   "source": [
    "<b>Plotting Continuous Features</b>"
   ]
  },
  {
   "cell_type": "code",
   "execution_count": 20,
   "metadata": {
    "execution": {
     "iopub.execute_input": "2022-03-28T18:26:24.726960Z",
     "iopub.status.busy": "2022-03-28T18:26:24.726621Z",
     "iopub.status.idle": "2022-03-28T18:26:25.747493Z",
     "shell.execute_reply": "2022-03-28T18:26:25.746527Z",
     "shell.execute_reply.started": "2022-03-28T18:26:24.726923Z"
    }
   },
   "outputs": [
    {
     "name": "stderr",
     "output_type": "stream",
     "text": [
      "/Library/Frameworks/Python.framework/Versions/3.9/lib/python3.9/site-packages/seaborn/axisgrid.py:118: UserWarning: The figure layout has changed to tight\n",
      "  self._figure.tight_layout(*args, **kwargs)\n"
     ]
    },
    {
     "data": {
      "image/png": "[encoded data removed]",
      "text/plain": [
       "<Figure size 360x360 with 1 Axes>"
      ]
     },
     "metadata": {
      "needs_background": "light"
     },
     "output_type": "display_data"
    }
   ],
   "source": [
    "sns.displot(data['ctc'],kde=True,bins=50)\n",
    "plt.show()"
   ]
  },
  {
   "cell_type": "markdown",
   "metadata": {},
   "source": [
    "The plot seems to be having large range of values, let's try to scale column for visualizing."
   ]
  },
  {
   "cell_type": "code",
   "execution_count": 21,
   "metadata": {
    "execution": {
     "iopub.execute_input": "2022-03-28T18:26:25.748801Z",
     "iopub.status.busy": "2022-03-28T18:26:25.748568Z",
     "iopub.status.idle": "2022-03-28T18:26:25.927369Z",
     "shell.execute_reply": "2022-03-28T18:26:25.926751Z",
     "shell.execute_reply.started": "2022-03-28T18:26:25.748777Z"
    }
   },
   "outputs": [
    {
     "data": {
      "image/png": "[encoded data removed]",
      "text/plain": [
       "<Figure size 432x288 with 1 Axes>"
      ]
     },
     "metadata": {
      "needs_background": "light"
     },
     "output_type": "display_data"
    }
   ],
   "source": [
    "v = data['ctc']\n",
    "#v = (v-v.mean())/v.std()\n",
    "sns.boxplot(v)\n",
    "plt.show()"
   ]
  },
  {
   "cell_type": "code",
   "execution_count": 22,
   "metadata": {
    "execution": {
     "iopub.execute_input": "2022-03-28T18:26:25.928772Z",
     "iopub.status.busy": "2022-03-28T18:26:25.928439Z",
     "iopub.status.idle": "2022-03-28T18:26:26.005525Z",
     "shell.execute_reply": "2022-03-28T18:26:26.004495Z",
     "shell.execute_reply.started": "2022-03-28T18:26:25.928732Z"
    }
   },
   "outputs": [
    {
     "data": {
      "text/html": [
       "<div>\n",
       "<style scoped>\n",
       "    .dataframe tbody tr th:only-of-type {\n",
       "        vertical-align: middle;\n",
       "    }\n",
       "\n",
       "    .dataframe tbody tr th {\n",
       "        vertical-align: top;\n",
       "    }\n",
       "\n",
       "    .dataframe thead th {\n",
       "        text-align: right;\n",
       "    }\n",
       "</style>\n",
       "<table border=\"1\" class=\"dataframe\">\n",
       "  <thead>\n",
       "    <tr style=\"text-align: right;\">\n",
       "      <th></th>\n",
       "      <th>email_hash</th>\n",
       "      <th>Unnamed: 0</th>\n",
       "      <th>company_hash</th>\n",
       "      <th>orgyear</th>\n",
       "      <th>ctc</th>\n",
       "      <th>job_position</th>\n",
       "      <th>ctc_updated_year</th>\n",
       "      <th>orgyear_na</th>\n",
       "      <th>ctc_updated_year_na</th>\n",
       "      <th>company_hash_na</th>\n",
       "      <th>job_position_na</th>\n",
       "      <th>YoE</th>\n",
       "      <th>company_hash_encode</th>\n",
       "      <th>job_position_encode</th>\n",
       "    </tr>\n",
       "  </thead>\n",
       "  <tbody>\n",
       "    <tr>\n",
       "      <th>40428</th>\n",
       "      <td>439134c4b243fe33a240265f94d0c9d6e120f31cb6e2cc...</td>\n",
       "      <td>98842</td>\n",
       "      <td>Trxztdn</td>\n",
       "      <td>2019.0</td>\n",
       "      <td>20000</td>\n",
       "      <td>QA Engineer</td>\n",
       "      <td>2019.0</td>\n",
       "      <td>False</td>\n",
       "      <td>False</td>\n",
       "      <td>False</td>\n",
       "      <td>False</td>\n",
       "      <td>0.0</td>\n",
       "      <td>0.000007</td>\n",
       "      <td>401.973371</td>\n",
       "    </tr>\n",
       "    <tr>\n",
       "      <th>30954</th>\n",
       "      <td>3394eeca520d9029ce6bd56e83faa5d4d82c396f453e2a...</td>\n",
       "      <td>97003</td>\n",
       "      <td>Mrvmmtq</td>\n",
       "      <td>2011.0</td>\n",
       "      <td>20000</td>\n",
       "      <td>Android Engineer</td>\n",
       "      <td>2019.0</td>\n",
       "      <td>False</td>\n",
       "      <td>False</td>\n",
       "      <td>False</td>\n",
       "      <td>False</td>\n",
       "      <td>8.0</td>\n",
       "      <td>0.000007</td>\n",
       "      <td>317.968236</td>\n",
       "    </tr>\n",
       "    <tr>\n",
       "      <th>78889</th>\n",
       "      <td>83d1ece927b7d7e944454483a4a8a3b08a18ed846890ee...</td>\n",
       "      <td>88544</td>\n",
       "      <td>Oxbgz Eqvotq Hzxctqoxnj</td>\n",
       "      <td>2016.0</td>\n",
       "      <td>20000</td>\n",
       "      <td>Other</td>\n",
       "      <td>2017.0</td>\n",
       "      <td>False</td>\n",
       "      <td>False</td>\n",
       "      <td>False</td>\n",
       "      <td>False</td>\n",
       "      <td>1.0</td>\n",
       "      <td>0.000026</td>\n",
       "      <td>1026.830810</td>\n",
       "    </tr>\n",
       "    <tr>\n",
       "      <th>90663</th>\n",
       "      <td>975e224e718de0d75c2d33d2bf24e75c4b7559664763b1...</td>\n",
       "      <td>125784</td>\n",
       "      <td>Wgcvrtzot Ntwyzgrgsxto</td>\n",
       "      <td>2016.0</td>\n",
       "      <td>20000</td>\n",
       "      <td>Backend Engineer</td>\n",
       "      <td>2019.0</td>\n",
       "      <td>False</td>\n",
       "      <td>False</td>\n",
       "      <td>False</td>\n",
       "      <td>False</td>\n",
       "      <td>3.0</td>\n",
       "      <td>0.000020</td>\n",
       "      <td>2431.717315</td>\n",
       "    </tr>\n",
       "    <tr>\n",
       "      <th>74910</th>\n",
       "      <td>7d43b749f1651cba0a16743d6235f5f32a9a58837ee081...</td>\n",
       "      <td>24380</td>\n",
       "      <td>Ovu</td>\n",
       "      <td>2008.0</td>\n",
       "      <td>20000</td>\n",
       "      <td>QA Engineer</td>\n",
       "      <td>2019.0</td>\n",
       "      <td>False</td>\n",
       "      <td>False</td>\n",
       "      <td>False</td>\n",
       "      <td>False</td>\n",
       "      <td>11.0</td>\n",
       "      <td>0.004112</td>\n",
       "      <td>401.973371</td>\n",
       "    </tr>\n",
       "    <tr>\n",
       "      <th>38801</th>\n",
       "      <td>40bf699c6ab3273acfdda2c7922b30dbc5f8cedea903f4...</td>\n",
       "      <td>93058</td>\n",
       "      <td>Zgzt</td>\n",
       "      <td>2008.0</td>\n",
       "      <td>20000</td>\n",
       "      <td>FullStack Engineer</td>\n",
       "      <td>2019.0</td>\n",
       "      <td>False</td>\n",
       "      <td>False</td>\n",
       "      <td>False</td>\n",
       "      <td>False</td>\n",
       "      <td>11.0</td>\n",
       "      <td>0.003395</td>\n",
       "      <td>1319.056588</td>\n",
       "    </tr>\n",
       "    <tr>\n",
       "      <th>25247</th>\n",
       "      <td>29e7d12a6225aeff7b5d92947f949e6646ec58111e5a5a...</td>\n",
       "      <td>4290</td>\n",
       "      <td>Vqttzv Bhrnxbtaxv</td>\n",
       "      <td>2001.0</td>\n",
       "      <td>20000</td>\n",
       "      <td>Other</td>\n",
       "      <td>2021.0</td>\n",
       "      <td>False</td>\n",
       "      <td>False</td>\n",
       "      <td>False</td>\n",
       "      <td>False</td>\n",
       "      <td>20.0</td>\n",
       "      <td>0.000007</td>\n",
       "      <td>1026.830810</td>\n",
       "    </tr>\n",
       "    <tr>\n",
       "      <th>117820</th>\n",
       "      <td>c4a7229bb63eade33516411b68d8501420e15987d116eb...</td>\n",
       "      <td>135189</td>\n",
       "      <td>Uyvqbtvoj</td>\n",
       "      <td>2012.0</td>\n",
       "      <td>20000</td>\n",
       "      <td>Backend Engineer</td>\n",
       "      <td>2019.0</td>\n",
       "      <td>False</td>\n",
       "      <td>False</td>\n",
       "      <td>False</td>\n",
       "      <td>False</td>\n",
       "      <td>7.0</td>\n",
       "      <td>0.000398</td>\n",
       "      <td>2431.717315</td>\n",
       "    </tr>\n",
       "    <tr>\n",
       "      <th>73669</th>\n",
       "      <td>7b3b93e56fd67d3ddfeb41f68a88a61d01c397aab9bbe1...</td>\n",
       "      <td>151028</td>\n",
       "      <td>Bvqxogen</td>\n",
       "      <td>2017.0</td>\n",
       "      <td>20000</td>\n",
       "      <td>na</td>\n",
       "      <td>2019.0</td>\n",
       "      <td>False</td>\n",
       "      <td>False</td>\n",
       "      <td>False</td>\n",
       "      <td>True</td>\n",
       "      <td>2.0</td>\n",
       "      <td>0.000007</td>\n",
       "      <td>1318.079026</td>\n",
       "    </tr>\n",
       "    <tr>\n",
       "      <th>71300</th>\n",
       "      <td>774a4a75a15f53e19bbf4ef85a5c6dc3da689e4291f773...</td>\n",
       "      <td>77722</td>\n",
       "      <td>Rxetonjrt Xzntqzvnxgzvr Ucn Rna</td>\n",
       "      <td>2010.0</td>\n",
       "      <td>20000</td>\n",
       "      <td>Other</td>\n",
       "      <td>2016.0</td>\n",
       "      <td>False</td>\n",
       "      <td>False</td>\n",
       "      <td>False</td>\n",
       "      <td>False</td>\n",
       "      <td>6.0</td>\n",
       "      <td>0.000007</td>\n",
       "      <td>1026.830810</td>\n",
       "    </tr>\n",
       "    <tr>\n",
       "      <th>120930</th>\n",
       "      <td>c9f0c1b5a2a71b0b754abcf68bc68c55188763ed0c8837...</td>\n",
       "      <td>99951</td>\n",
       "      <td>Wtrxsg Xzw</td>\n",
       "      <td>2009.0</td>\n",
       "      <td>20000</td>\n",
       "      <td>Backend Engineer</td>\n",
       "      <td>2019.0</td>\n",
       "      <td>False</td>\n",
       "      <td>False</td>\n",
       "      <td>False</td>\n",
       "      <td>False</td>\n",
       "      <td>10.0</td>\n",
       "      <td>0.000098</td>\n",
       "      <td>2431.717315</td>\n",
       "    </tr>\n",
       "    <tr>\n",
       "      <th>5376</th>\n",
       "      <td>08bac5026bf379045813ce0e99e8df5601a56d913424fe...</td>\n",
       "      <td>84968</td>\n",
       "      <td>Uqtowqxmtq360 Ogrhnxgzo</td>\n",
       "      <td>2013.0</td>\n",
       "      <td>20000</td>\n",
       "      <td>FullStack Engineer</td>\n",
       "      <td>2019.0</td>\n",
       "      <td>False</td>\n",
       "      <td>False</td>\n",
       "      <td>False</td>\n",
       "      <td>False</td>\n",
       "      <td>6.0</td>\n",
       "      <td>0.000007</td>\n",
       "      <td>1319.056588</td>\n",
       "    </tr>\n",
       "    <tr>\n",
       "      <th>49442</th>\n",
       "      <td>52cad1776d3a469cc3f056fb9568b0d6f8a2f901d4f857...</td>\n",
       "      <td>164185</td>\n",
       "      <td>Ougqnqvavq Vs</td>\n",
       "      <td>2008.0</td>\n",
       "      <td>20000</td>\n",
       "      <td>na</td>\n",
       "      <td>2016.0</td>\n",
       "      <td>False</td>\n",
       "      <td>False</td>\n",
       "      <td>False</td>\n",
       "      <td>True</td>\n",
       "      <td>8.0</td>\n",
       "      <td>0.000007</td>\n",
       "      <td>1318.079026</td>\n",
       "    </tr>\n",
       "    <tr>\n",
       "      <th>36095</th>\n",
       "      <td>3c29ecc4a921bdf1f8ed0e3143069c47f836de0ad831fc...</td>\n",
       "      <td>100559</td>\n",
       "      <td>Xzntsqvnta Ntwyzgrgsj Sqghu</td>\n",
       "      <td>2016.0</td>\n",
       "      <td>20000</td>\n",
       "      <td>Android Engineer</td>\n",
       "      <td>2019.0</td>\n",
       "      <td>False</td>\n",
       "      <td>False</td>\n",
       "      <td>False</td>\n",
       "      <td>False</td>\n",
       "      <td>3.0</td>\n",
       "      <td>0.000007</td>\n",
       "      <td>317.968236</td>\n",
       "    </tr>\n",
       "    <tr>\n",
       "      <th>23539</th>\n",
       "      <td>270481314e2a3f52a67719a20b7b241090d1175067c527...</td>\n",
       "      <td>107733</td>\n",
       "      <td>Xburtdbt</td>\n",
       "      <td>2013.0</td>\n",
       "      <td>20000</td>\n",
       "      <td>Backend Engineer</td>\n",
       "      <td>2020.0</td>\n",
       "      <td>False</td>\n",
       "      <td>False</td>\n",
       "      <td>False</td>\n",
       "      <td>False</td>\n",
       "      <td>7.0</td>\n",
       "      <td>0.000007</td>\n",
       "      <td>2431.717315</td>\n",
       "    </tr>\n",
       "    <tr>\n",
       "      <th>18584</th>\n",
       "      <td>1eb23fa16469ad4ec4bfd9c02a4878bee17986453eb87a...</td>\n",
       "      <td>81272</td>\n",
       "      <td>Gqvzst</td>\n",
       "      <td>2018.0</td>\n",
       "      <td>20000</td>\n",
       "      <td>FullStack Engineer</td>\n",
       "      <td>2019.0</td>\n",
       "      <td>False</td>\n",
       "      <td>False</td>\n",
       "      <td>False</td>\n",
       "      <td>False</td>\n",
       "      <td>1.0</td>\n",
       "      <td>0.000111</td>\n",
       "      <td>1319.056588</td>\n",
       "    </tr>\n",
       "    <tr>\n",
       "      <th>139896</th>\n",
       "      <td>e9867fcd4ad217d5b3eb4be37e1770de27b9b1055e2a4c...</td>\n",
       "      <td>50112</td>\n",
       "      <td>Tuvb Ojontbo</td>\n",
       "      <td>2008.0</td>\n",
       "      <td>20000</td>\n",
       "      <td>Backend Engineer</td>\n",
       "      <td>2016.0</td>\n",
       "      <td>False</td>\n",
       "      <td>False</td>\n",
       "      <td>False</td>\n",
       "      <td>False</td>\n",
       "      <td>8.0</td>\n",
       "      <td>0.001369</td>\n",
       "      <td>2431.717315</td>\n",
       "    </tr>\n",
       "    <tr>\n",
       "      <th>35678</th>\n",
       "      <td>3b71a41715519c7a82a0eee25b9e90edd749d77852fe55...</td>\n",
       "      <td>46366</td>\n",
       "      <td>Ogenwvqt</td>\n",
       "      <td>2004.0</td>\n",
       "      <td>20000</td>\n",
       "      <td>Backend Engineer</td>\n",
       "      <td>2017.0</td>\n",
       "      <td>False</td>\n",
       "      <td>False</td>\n",
       "      <td>False</td>\n",
       "      <td>False</td>\n",
       "      <td>13.0</td>\n",
       "      <td>0.000007</td>\n",
       "      <td>2431.717315</td>\n",
       "    </tr>\n",
       "    <tr>\n",
       "      <th>131924</th>\n",
       "      <td>dc43256af03d641e65dc34d57ea0872500935062f7f20a...</td>\n",
       "      <td>142496</td>\n",
       "      <td>Vbvkgz</td>\n",
       "      <td>2014.0</td>\n",
       "      <td>20000</td>\n",
       "      <td>Other</td>\n",
       "      <td>2017.0</td>\n",
       "      <td>False</td>\n",
       "      <td>False</td>\n",
       "      <td>False</td>\n",
       "      <td>False</td>\n",
       "      <td>3.0</td>\n",
       "      <td>0.016560</td>\n",
       "      <td>1026.830810</td>\n",
       "    </tr>\n",
       "    <tr>\n",
       "      <th>107673</th>\n",
       "      <td>b3a96ff0081272c4627cdaa0c85b4b4f24b5c46792b035...</td>\n",
       "      <td>166905</td>\n",
       "      <td>Mhoxztoowgat Sbmy</td>\n",
       "      <td>2015.0</td>\n",
       "      <td>20000</td>\n",
       "      <td>Data Scientist</td>\n",
       "      <td>2019.0</td>\n",
       "      <td>False</td>\n",
       "      <td>False</td>\n",
       "      <td>False</td>\n",
       "      <td>False</td>\n",
       "      <td>4.0</td>\n",
       "      <td>0.000007</td>\n",
       "      <td>319.141310</td>\n",
       "    </tr>\n",
       "  </tbody>\n",
       "</table>\n",
       "</div>"
      ],
      "text/plain": [
       "                                               email_hash  Unnamed: 0  \\\n",
       "40428   439134c4b243fe33a240265f94d0c9d6e120f31cb6e2cc...       98842   \n",
       "30954   3394eeca520d9029ce6bd56e83faa5d4d82c396f453e2a...       97003   \n",
       "78889   83d1ece927b7d7e944454483a4a8a3b08a18ed846890ee...       88544   \n",
       "90663   975e224e718de0d75c2d33d2bf24e75c4b7559664763b1...      125784   \n",
       "74910   7d43b749f1651cba0a16743d6235f5f32a9a58837ee081...       24380   \n",
       "38801   40bf699c6ab3273acfdda2c7922b30dbc5f8cedea903f4...       93058   \n",
       "25247   29e7d12a6225aeff7b5d92947f949e6646ec58111e5a5a...        4290   \n",
       "117820  c4a7229bb63eade33516411b68d8501420e15987d116eb...      135189   \n",
       "73669   7b3b93e56fd67d3ddfeb41f68a88a61d01c397aab9bbe1...      151028   \n",
       "71300   774a4a75a15f53e19bbf4ef85a5c6dc3da689e4291f773...       77722   \n",
       "120930  c9f0c1b5a2a71b0b754abcf68bc68c55188763ed0c8837...       99951   \n",
       "5376    08bac5026bf379045813ce0e99e8df5601a56d913424fe...       84968   \n",
       "49442   52cad1776d3a469cc3f056fb9568b0d6f8a2f901d4f857...      164185   \n",
       "36095   3c29ecc4a921bdf1f8ed0e3143069c47f836de0ad831fc...      100559   \n",
       "23539   270481314e2a3f52a67719a20b7b241090d1175067c527...      107733   \n",
       "18584   1eb23fa16469ad4ec4bfd9c02a4878bee17986453eb87a...       81272   \n",
       "139896  e9867fcd4ad217d5b3eb4be37e1770de27b9b1055e2a4c...       50112   \n",
       "35678   3b71a41715519c7a82a0eee25b9e90edd749d77852fe55...       46366   \n",
       "131924  dc43256af03d641e65dc34d57ea0872500935062f7f20a...      142496   \n",
       "107673  b3a96ff0081272c4627cdaa0c85b4b4f24b5c46792b035...      166905   \n",
       "\n",
       "                           company_hash  orgyear    ctc        job_position  \\\n",
       "40428                           Trxztdn   2019.0  20000         QA Engineer   \n",
       "30954                           Mrvmmtq   2011.0  20000    Android Engineer   \n",
       "78889           Oxbgz Eqvotq Hzxctqoxnj   2016.0  20000               Other   \n",
       "90663            Wgcvrtzot Ntwyzgrgsxto   2016.0  20000    Backend Engineer   \n",
       "74910                               Ovu   2008.0  20000         QA Engineer   \n",
       "38801                              Zgzt   2008.0  20000  FullStack Engineer   \n",
       "25247                 Vqttzv Bhrnxbtaxv   2001.0  20000               Other   \n",
       "117820                        Uyvqbtvoj   2012.0  20000    Backend Engineer   \n",
       "73669                          Bvqxogen   2017.0  20000                  na   \n",
       "71300   Rxetonjrt Xzntqzvnxgzvr Ucn Rna   2010.0  20000               Other   \n",
       "120930                       Wtrxsg Xzw   2009.0  20000    Backend Engineer   \n",
       "5376            Uqtowqxmtq360 Ogrhnxgzo   2013.0  20000  FullStack Engineer   \n",
       "49442                     Ougqnqvavq Vs   2008.0  20000                  na   \n",
       "36095       Xzntsqvnta Ntwyzgrgsj Sqghu   2016.0  20000    Android Engineer   \n",
       "23539                          Xburtdbt   2013.0  20000    Backend Engineer   \n",
       "18584                            Gqvzst   2018.0  20000  FullStack Engineer   \n",
       "139896                     Tuvb Ojontbo   2008.0  20000    Backend Engineer   \n",
       "35678                          Ogenwvqt   2004.0  20000    Backend Engineer   \n",
       "131924                           Vbvkgz   2014.0  20000               Other   \n",
       "107673                Mhoxztoowgat Sbmy   2015.0  20000      Data Scientist   \n",
       "\n",
       "        ctc_updated_year  orgyear_na  ctc_updated_year_na  company_hash_na  \\\n",
       "40428             2019.0       False                False            False   \n",
       "30954             2019.0       False                False            False   \n",
       "78889             2017.0       False                False            False   \n",
       "90663             2019.0       False                False            False   \n",
       "74910             2019.0       False                False            False   \n",
       "38801             2019.0       False                False            False   \n",
       "25247             2021.0       False                False            False   \n",
       "117820            2019.0       False                False            False   \n",
       "73669             2019.0       False                False            False   \n",
       "71300             2016.0       False                False            False   \n",
       "120930            2019.0       False                False            False   \n",
       "5376              2019.0       False                False            False   \n",
       "49442             2016.0       False                False            False   \n",
       "36095             2019.0       False                False            False   \n",
       "23539             2020.0       False                False            False   \n",
       "18584             2019.0       False                False            False   \n",
       "139896            2016.0       False                False            False   \n",
       "35678             2017.0       False                False            False   \n",
       "131924            2017.0       False                False            False   \n",
       "107673            2019.0       False                False            False   \n",
       "\n",
       "        job_position_na   YoE  company_hash_encode  job_position_encode  \n",
       "40428             False   0.0             0.000007           401.973371  \n",
       "30954             False   8.0             0.000007           317.968236  \n",
       "78889             False   1.0             0.000026          1026.830810  \n",
       "90663             False   3.0             0.000020          2431.717315  \n",
       "74910             False  11.0             0.004112           401.973371  \n",
       "38801             False  11.0             0.003395          1319.056588  \n",
       "25247             False  20.0             0.000007          1026.830810  \n",
       "117820            False   7.0             0.000398          2431.717315  \n",
       "73669              True   2.0             0.000007          1318.079026  \n",
       "71300             False   6.0             0.000007          1026.830810  \n",
       "120930            False  10.0             0.000098          2431.717315  \n",
       "5376              False   6.0             0.000007          1319.056588  \n",
       "49442              True   8.0             0.000007          1318.079026  \n",
       "36095             False   3.0             0.000007           317.968236  \n",
       "23539             False   7.0             0.000007          2431.717315  \n",
       "18584             False   1.0             0.000111          1319.056588  \n",
       "139896            False   8.0             0.001369          2431.717315  \n",
       "35678             False  13.0             0.000007          2431.717315  \n",
       "131924            False   3.0             0.016560          1026.830810  \n",
       "107673            False   4.0             0.000007           319.141310  "
      ]
     },
     "execution_count": 22,
     "metadata": {},
     "output_type": "execute_result"
    }
   ],
   "source": [
    "data.sort_values(['ctc']).iloc[1000:1020,:]"
   ]
  },
  {
   "cell_type": "code",
   "execution_count": 23,
   "metadata": {
    "execution": {
     "iopub.execute_input": "2022-03-28T18:26:26.007221Z",
     "iopub.status.busy": "2022-03-28T18:26:26.006977Z",
     "iopub.status.idle": "2022-03-28T18:26:26.029952Z",
     "shell.execute_reply": "2022-03-28T18:26:26.029000Z",
     "shell.execute_reply.started": "2022-03-28T18:26:26.007192Z"
    }
   },
   "outputs": [],
   "source": [
    "data = data[data['ctc'] >702475]"
   ]
  },
  {
   "cell_type": "markdown",
   "metadata": {},
   "source": [
    "<b> Outlier Removal using IQR</b> "
   ]
  },
  {
   "cell_type": "code",
   "execution_count": 24,
   "metadata": {
    "execution": {
     "iopub.execute_input": "2022-03-28T18:26:26.031488Z",
     "iopub.status.busy": "2022-03-28T18:26:26.031265Z",
     "iopub.status.idle": "2022-03-28T18:26:26.068091Z",
     "shell.execute_reply": "2022-03-28T18:26:26.067438Z",
     "shell.execute_reply.started": "2022-03-28T18:26:26.031462Z"
    }
   },
   "outputs": [
    {
     "name": "stdout",
     "output_type": "stream",
     "text": [
      "(92558, 14)\n",
      "(86464, 14)\n"
     ]
    }
   ],
   "source": [
    "dftmp = data.copy()\n",
    "print(dftmp.shape)\n",
    "cols = ['ctc'] # one or more\n",
    "\n",
    "Q1 = dftmp[cols].quantile(0.25)\n",
    "Q3 = dftmp[cols].quantile(0.75)\n",
    "IQR = Q3 - Q1\n",
    "\n",
    "dftmp = dftmp[~((dftmp[cols] < (Q1 - 1.5 * IQR)) |(dftmp[cols] > (Q3 + 1.5 * IQR))).any(axis=1)]\n",
    "print(dftmp.shape)"
   ]
  },
  {
   "cell_type": "code",
   "execution_count": 25,
   "metadata": {
    "execution": {
     "iopub.execute_input": "2022-03-28T18:26:26.069725Z",
     "iopub.status.busy": "2022-03-28T18:26:26.069334Z",
     "iopub.status.idle": "2022-03-28T18:26:26.073142Z",
     "shell.execute_reply": "2022-03-28T18:26:26.072325Z",
     "shell.execute_reply.started": "2022-03-28T18:26:26.069694Z"
    }
   },
   "outputs": [],
   "source": [
    "#dftmp = dftmp[dftmp['ctc']>300000]"
   ]
  },
  {
   "cell_type": "code",
   "execution_count": 26,
   "metadata": {
    "execution": {
     "iopub.execute_input": "2022-03-28T18:26:26.074575Z",
     "iopub.status.busy": "2022-03-28T18:26:26.074358Z",
     "iopub.status.idle": "2022-03-28T18:26:26.977387Z",
     "shell.execute_reply": "2022-03-28T18:26:26.976421Z",
     "shell.execute_reply.started": "2022-03-28T18:26:26.074550Z"
    }
   },
   "outputs": [
    {
     "name": "stderr",
     "output_type": "stream",
     "text": [
      "/Library/Frameworks/Python.framework/Versions/3.9/lib/python3.9/site-packages/seaborn/axisgrid.py:118: UserWarning: The figure layout has changed to tight\n",
      "  self._figure.tight_layout(*args, **kwargs)\n"
     ]
    },
    {
     "data": {
      "image/png": "[encoded data removed]",
      "text/plain": [
       "<Figure size 360x360 with 1 Axes>"
      ]
     },
     "metadata": {
      "needs_background": "light"
     },
     "output_type": "display_data"
    }
   ],
   "source": [
    "v = dftmp['ctc']\n",
    "sns.displot(v,kde=True,bins=50)\n",
    "plt.show()"
   ]
  },
  {
   "cell_type": "code",
   "execution_count": 27,
   "metadata": {
    "execution": {
     "iopub.execute_input": "2022-03-28T18:26:26.978945Z",
     "iopub.status.busy": "2022-03-28T18:26:26.978712Z",
     "iopub.status.idle": "2022-03-28T18:26:27.147000Z",
     "shell.execute_reply": "2022-03-28T18:26:27.146091Z",
     "shell.execute_reply.started": "2022-03-28T18:26:26.978918Z"
    }
   },
   "outputs": [
    {
     "data": {
      "image/png": "[encoded data removed]",
      "text/plain": [
       "<Figure size 432x288 with 1 Axes>"
      ]
     },
     "metadata": {
      "needs_background": "light"
     },
     "output_type": "display_data"
    }
   ],
   "source": [
    "v = dftmp['ctc']/100000\n",
    "#v = (v-v.mean())/v.std()\n",
    "sns.boxplot(v)\n",
    "plt.show()"
   ]
  },
  {
   "cell_type": "code",
   "execution_count": 28,
   "metadata": {
    "execution": {
     "iopub.execute_input": "2022-03-28T18:26:27.150136Z",
     "iopub.status.busy": "2022-03-28T18:26:27.148437Z",
     "iopub.status.idle": "2022-03-28T18:26:27.799685Z",
     "shell.execute_reply": "2022-03-28T18:26:27.798844Z",
     "shell.execute_reply.started": "2022-03-28T18:26:27.150098Z"
    }
   },
   "outputs": [
    {
     "name": "stderr",
     "output_type": "stream",
     "text": [
      "/Library/Frameworks/Python.framework/Versions/3.9/lib/python3.9/site-packages/seaborn/axisgrid.py:118: UserWarning: The figure layout has changed to tight\n",
      "  self._figure.tight_layout(*args, **kwargs)\n"
     ]
    },
    {
     "data": {
      "image/png": "[encoded data removed]",
      "text/plain": [
       "<Figure size 360x360 with 1 Axes>"
      ]
     },
     "metadata": {
      "needs_background": "light"
     },
     "output_type": "display_data"
    }
   ],
   "source": [
    "v = np.log2(dftmp['ctc'])\n",
    "sns.displot(v,kde=True,bins=20)\n",
    "plt.show()"
   ]
  },
  {
   "cell_type": "code",
   "execution_count": 29,
   "metadata": {
    "execution": {
     "iopub.execute_input": "2022-03-28T18:26:27.801412Z",
     "iopub.status.busy": "2022-03-28T18:26:27.801098Z",
     "iopub.status.idle": "2022-03-28T18:26:27.811286Z",
     "shell.execute_reply": "2022-03-28T18:26:27.810562Z",
     "shell.execute_reply.started": "2022-03-28T18:26:27.801372Z"
    }
   },
   "outputs": [],
   "source": [
    "dateda = dftmp.copy()"
   ]
  },
  {
   "cell_type": "code",
   "execution_count": null,
   "metadata": {},
   "outputs": [],
   "source": []
  },
  {
   "cell_type": "markdown",
   "metadata": {
    "execution": {
     "iopub.execute_input": "2022-03-28T15:16:58.004427Z",
     "iopub.status.busy": "2022-03-28T15:16:58.004209Z",
     "iopub.status.idle": "2022-03-28T15:16:58.02743Z",
     "shell.execute_reply": "2022-03-28T15:16:58.027053Z",
     "shell.execute_reply.started": "2022-03-28T15:16:58.004403Z"
    }
   },
   "source": [
    "<div style=\"font-family:verdana; word-spacing:1.5px;\">\n",
    "    <p style=\"text-align:center;font-size:125%;padding: 10px;\"><b>Multivariate Analysis</b></p>\n",
    "    </div>"
   ]
  },
  {
   "cell_type": "code",
   "execution_count": 30,
   "metadata": {
    "execution": {
     "iopub.execute_input": "2022-03-28T18:26:27.812619Z",
     "iopub.status.busy": "2022-03-28T18:26:27.812381Z",
     "iopub.status.idle": "2022-03-28T18:26:29.158225Z",
     "shell.execute_reply": "2022-03-28T18:26:29.157636Z",
     "shell.execute_reply.started": "2022-03-28T18:26:27.812594Z"
    },
    "scrolled": false
   },
   "outputs": [
    {
     "data": {
      "image/png": "[encoded data removed]",
      "text/plain": [
       "<Figure size 1440x2160 with 1 Axes>"
      ]
     },
     "metadata": {
      "needs_background": "light"
     },
     "output_type": "display_data"
    }
   ],
   "source": [
    "tmp = dftmp.copy()\n",
    "tmp = tmp.groupby(['job_position']).max()['ctc'].reset_index().sort_values('ctc',ascending=False).head(50)\n",
    "plt.figure(figsize=(20,30))\n",
    "sns.barplot(data=tmp,x='ctc',y='job_position').set(title=\"Top Paying Jobs\")\n",
    "plt.show()"
   ]
  },
  {
   "cell_type": "code",
   "execution_count": 31,
   "metadata": {
    "execution": {
     "iopub.execute_input": "2022-03-28T18:26:29.159813Z",
     "iopub.status.busy": "2022-03-28T18:26:29.159418Z",
     "iopub.status.idle": "2022-03-28T18:26:35.589065Z",
     "shell.execute_reply": "2022-03-28T18:26:35.588086Z",
     "shell.execute_reply.started": "2022-03-28T18:26:29.159757Z"
    }
   },
   "outputs": [
    {
     "data": {
      "image/png": "[encoded data removed]",
      "text/plain": [
       "<Figure size 1440x2160 with 1 Axes>"
      ]
     },
     "metadata": {
      "needs_background": "light"
     },
     "output_type": "display_data"
    }
   ],
   "source": [
    "tmp = dftmp.copy()\n",
    "tmp = tmp.groupby(['company_hash']).max()['ctc'].reset_index().sort_values('ctc',ascending=False).head(50)\n",
    "plt.figure(figsize=(20,30))\n",
    "sns.barplot(data=tmp,x='ctc',y='company_hash').set(title=\"Top Paying Companies\")\n",
    "plt.show()"
   ]
  },
  {
   "cell_type": "markdown",
   "metadata": {},
   "source": [
    "<div style=\"font-family:verdana; word-spacing:1.5px;\">\n",
    "    <p style=\"text-align:center;font-size:175%;padding: 10px;\"><b> Manual Clustering</b></p>\n",
    "    </div>"
   ]
  },
  {
   "cell_type": "code",
   "execution_count": 32,
   "metadata": {
    "execution": {
     "iopub.execute_input": "2022-03-28T18:26:43.158077Z",
     "iopub.status.busy": "2022-03-28T18:26:43.157844Z",
     "iopub.status.idle": "2022-03-28T18:26:43.406168Z",
     "shell.execute_reply": "2022-03-28T18:26:43.405176Z",
     "shell.execute_reply.started": "2022-03-28T18:26:43.158049Z"
    }
   },
   "outputs": [],
   "source": [
    "grp = ['company_hash','job_position','YoE']\n",
    "data_tmp1 = dateda.groupby(grp).agg({'ctc':['mean','median','min','max','count']}).reset_index()\n",
    "data_tmp1.columns  = [\"{} {}\".format(b_, a_) if a_ not in grp else \"{}\".format(a_) for a_, b_ in zip(data_tmp1.columns.droplevel(1), data_tmp1.columns.droplevel(0))  ]\n",
    "data_tmp1.head(100).tail(50)\n",
    "\n",
    "datatmp = dateda.merge(data_tmp1[['company_hash', 'job_position', 'YoE', 'mean ctc']],on=['company_hash', 'job_position', 'YoE'],how='left')\n",
    "\n",
    "\n",
    "\n",
    "col1 = 'ctc'\n",
    "col2 = 'mean ctc' \n",
    "conditions  = [ datatmp[col1] > datatmp[col2], datatmp[col1] == datatmp[col2], datatmp[col1] < datatmp[col2] ]\n",
    "choices     = [ 1, 2, 3 ]\n",
    "    \n",
    "datatmp['Designation'] = np.select(conditions, choices, default=np.nan)\n"
   ]
  },
  {
   "cell_type": "code",
   "execution_count": 33,
   "metadata": {
    "execution": {
     "iopub.execute_input": "2022-03-28T18:26:43.408303Z",
     "iopub.status.busy": "2022-03-28T18:26:43.408005Z",
     "iopub.status.idle": "2022-03-28T18:26:43.577702Z",
     "shell.execute_reply": "2022-03-28T18:26:43.576939Z",
     "shell.execute_reply.started": "2022-03-28T18:26:43.408264Z"
    }
   },
   "outputs": [],
   "source": [
    "grp = ['company_hash','job_position']\n",
    "data_tmp1 = datatmp.groupby(grp).agg({'ctc':[('mean2','mean'),'median','min','max','count']}).reset_index()\n",
    "data_tmp1.columns  = [\"{} {}\".format(b_, a_) if a_ not in grp else \"{}\".format(a_) for a_, b_ in zip(data_tmp1.columns.droplevel(1), data_tmp1.columns.droplevel(0))  ]\n",
    "data_tmp1.head(100).tail(50)\n",
    "\n",
    "\n",
    "datatmp = datatmp.merge(data_tmp1[grp + ['mean2 ctc']],on=grp,how='left')\n",
    "\n",
    "\n",
    "col1 = 'ctc'\n",
    "col2 = 'mean2 ctc' \n",
    "conditions  = [ datatmp[col1] > datatmp[col2], datatmp[col1] == datatmp[col2], datatmp[col1] < datatmp[col2] ]\n",
    "choices     = [ 1, 2, 3 ]\n",
    "    \n",
    "datatmp['Class'] = np.select(conditions, choices, default=np.nan)"
   ]
  },
  {
   "cell_type": "code",
   "execution_count": 34,
   "metadata": {
    "execution": {
     "iopub.execute_input": "2022-03-28T18:26:43.579795Z",
     "iopub.status.busy": "2022-03-28T18:26:43.579479Z",
     "iopub.status.idle": "2022-03-28T18:26:43.704090Z",
     "shell.execute_reply": "2022-03-28T18:26:43.703074Z",
     "shell.execute_reply.started": "2022-03-28T18:26:43.579740Z"
    }
   },
   "outputs": [],
   "source": [
    "grp = ['company_hash']\n",
    "data_tmp1 = datatmp.groupby(grp).agg({'ctc':[('mean3','mean'),'median','min','max','count']}).reset_index()\n",
    "data_tmp1.columns  = [\"{} {}\".format(b_, a_) if a_ not in grp else \"{}\".format(a_) for a_, b_ in zip(data_tmp1.columns.droplevel(1), data_tmp1.columns.droplevel(0))  ]\n",
    "data_tmp1.head(100).tail(50)\n",
    "\n",
    "\n",
    "datatmp = datatmp.merge(data_tmp1[grp + ['mean3 ctc']],on=grp,how='left')\n",
    "\n",
    "\n",
    "col1 = 'ctc'\n",
    "col2 = 'mean3 ctc' \n",
    "conditions  = [ datatmp[col1] > datatmp[col2], datatmp[col1] == datatmp[col2], datatmp[col1] < datatmp[col2] ]\n",
    "choices     = [ 1, 2, 3 ]\n",
    "    \n",
    "datatmp['Tier'] = np.select(conditions, choices, default=np.nan)"
   ]
  },
  {
   "cell_type": "code",
   "execution_count": 35,
   "metadata": {
    "execution": {
     "iopub.execute_input": "2022-03-28T18:26:43.706209Z",
     "iopub.status.busy": "2022-03-28T18:26:43.705686Z",
     "iopub.status.idle": "2022-03-28T18:26:43.714899Z",
     "shell.execute_reply": "2022-03-28T18:26:43.713997Z",
     "shell.execute_reply.started": "2022-03-28T18:26:43.706166Z"
    }
   },
   "outputs": [],
   "source": [
    "datatmp['diff_desig'] = datatmp['ctc'] - datatmp['mean ctc']\n",
    "datatmp['diff_class'] = datatmp['ctc'] - datatmp['mean2 ctc']\n",
    "datatmp['diff_tier'] = datatmp['ctc'] - datatmp['mean3 ctc']"
   ]
  },
  {
   "cell_type": "markdown",
   "metadata": {},
   "source": [
    "<div style=\"font-family:verdana; word-spacing:1.5px;\">\n",
    "    <p style=\"text-align:center;font-size:175%;padding: 10px;\"><b>Answering question based on manual clustering</b></p>\n",
    "    </div>\n",
    "    "
   ]
  },
  {
   "cell_type": "markdown",
   "metadata": {},
   "source": [
    "<b>Top 10 employees (earning more than most of the employees in the company) - Tier 1 </b>"
   ]
  },
  {
   "cell_type": "code",
   "execution_count": 36,
   "metadata": {
    "execution": {
     "iopub.execute_input": "2022-03-28T18:26:43.717103Z",
     "iopub.status.busy": "2022-03-28T18:26:43.716281Z",
     "iopub.status.idle": "2022-03-28T18:26:43.775237Z",
     "shell.execute_reply": "2022-03-28T18:26:43.774298Z",
     "shell.execute_reply.started": "2022-03-28T18:26:43.717059Z"
    }
   },
   "outputs": [
    {
     "data": {
      "text/html": [
       "<div>\n",
       "<style scoped>\n",
       "    .dataframe tbody tr th:only-of-type {\n",
       "        vertical-align: middle;\n",
       "    }\n",
       "\n",
       "    .dataframe tbody tr th {\n",
       "        vertical-align: top;\n",
       "    }\n",
       "\n",
       "    .dataframe thead th {\n",
       "        text-align: right;\n",
       "    }\n",
       "</style>\n",
       "<table border=\"1\" class=\"dataframe\">\n",
       "  <thead>\n",
       "    <tr style=\"text-align: right;\">\n",
       "      <th></th>\n",
       "      <th>email_hash</th>\n",
       "      <th>ctc</th>\n",
       "      <th>mean3 ctc</th>\n",
       "    </tr>\n",
       "  </thead>\n",
       "  <tbody>\n",
       "    <tr>\n",
       "      <th>76180</th>\n",
       "      <td>e15abfd41c005995728191e49ef001e83e813cd3ed5104...</td>\n",
       "      <td>4240000</td>\n",
       "      <td>1.051315e+06</td>\n",
       "    </tr>\n",
       "    <tr>\n",
       "      <th>49030</th>\n",
       "      <td>90d5114ca752c55babef2c517ac8b17aaee3d9ff5740de...</td>\n",
       "      <td>4200000</td>\n",
       "      <td>1.051315e+06</td>\n",
       "    </tr>\n",
       "    <tr>\n",
       "      <th>59575</th>\n",
       "      <td>b022b84623593cc38a3c1d39d4545b368a7b5f286be1c7...</td>\n",
       "      <td>4200000</td>\n",
       "      <td>1.051315e+06</td>\n",
       "    </tr>\n",
       "    <tr>\n",
       "      <th>54761</th>\n",
       "      <td>a1c1c8919e2918b24241a40271e02381daf199c61d7a3b...</td>\n",
       "      <td>4200000</td>\n",
       "      <td>1.143837e+06</td>\n",
       "    </tr>\n",
       "    <tr>\n",
       "      <th>70667</th>\n",
       "      <td>d13d7376e9ced16b4e250d0643f9139f8b36a62847f71b...</td>\n",
       "      <td>4200000</td>\n",
       "      <td>1.147773e+06</td>\n",
       "    </tr>\n",
       "    <tr>\n",
       "      <th>31649</th>\n",
       "      <td>5d872e52cb535a71fc75a5a97e779bb4c1554d0baa920d...</td>\n",
       "      <td>4200000</td>\n",
       "      <td>1.158025e+06</td>\n",
       "    </tr>\n",
       "    <tr>\n",
       "      <th>14808</th>\n",
       "      <td>2b10e1d996c6ab5e175eea35ca25ea7afbaacd1237ab64...</td>\n",
       "      <td>4200000</td>\n",
       "      <td>1.158025e+06</td>\n",
       "    </tr>\n",
       "    <tr>\n",
       "      <th>47727</th>\n",
       "      <td>8d0ed00904247626f5557f5983feeb5a0567d7726eea39...</td>\n",
       "      <td>4200000</td>\n",
       "      <td>1.176534e+06</td>\n",
       "    </tr>\n",
       "    <tr>\n",
       "      <th>31826</th>\n",
       "      <td>5dff6a65d548553262b6a289f014b2b72a5d47ff6dfa5c...</td>\n",
       "      <td>4170000</td>\n",
       "      <td>1.165011e+06</td>\n",
       "    </tr>\n",
       "    <tr>\n",
       "      <th>45627</th>\n",
       "      <td>86b90dd64ddb663ea35be98422947a01ba9ab837fb76df...</td>\n",
       "      <td>4000000</td>\n",
       "      <td>1.051315e+06</td>\n",
       "    </tr>\n",
       "  </tbody>\n",
       "</table>\n",
       "</div>"
      ],
      "text/plain": [
       "                                              email_hash      ctc  \\\n",
       "76180  e15abfd41c005995728191e49ef001e83e813cd3ed5104...  4240000   \n",
       "49030  90d5114ca752c55babef2c517ac8b17aaee3d9ff5740de...  4200000   \n",
       "59575  b022b84623593cc38a3c1d39d4545b368a7b5f286be1c7...  4200000   \n",
       "54761  a1c1c8919e2918b24241a40271e02381daf199c61d7a3b...  4200000   \n",
       "70667  d13d7376e9ced16b4e250d0643f9139f8b36a62847f71b...  4200000   \n",
       "31649  5d872e52cb535a71fc75a5a97e779bb4c1554d0baa920d...  4200000   \n",
       "14808  2b10e1d996c6ab5e175eea35ca25ea7afbaacd1237ab64...  4200000   \n",
       "47727  8d0ed00904247626f5557f5983feeb5a0567d7726eea39...  4200000   \n",
       "31826  5dff6a65d548553262b6a289f014b2b72a5d47ff6dfa5c...  4170000   \n",
       "45627  86b90dd64ddb663ea35be98422947a01ba9ab837fb76df...  4000000   \n",
       "\n",
       "          mean3 ctc  \n",
       "76180  1.051315e+06  \n",
       "49030  1.051315e+06  \n",
       "59575  1.051315e+06  \n",
       "54761  1.143837e+06  \n",
       "70667  1.147773e+06  \n",
       "31649  1.158025e+06  \n",
       "14808  1.158025e+06  \n",
       "47727  1.176534e+06  \n",
       "31826  1.165011e+06  \n",
       "45627  1.051315e+06  "
      ]
     },
     "execution_count": 36,
     "metadata": {},
     "output_type": "execute_result"
    }
   ],
   "source": [
    "datatmp[datatmp['Tier'] == 1].sort_values('diff_tier',ascending=False).head(10)[['email_hash','ctc','mean3 ctc']]"
   ]
  },
  {
   "cell_type": "markdown",
   "metadata": {},
   "source": [
    "<b>Top 10 employees of data science earning more than their peers - Class 1</b>"
   ]
  },
  {
   "cell_type": "code",
   "execution_count": 37,
   "metadata": {
    "execution": {
     "iopub.execute_input": "2022-03-28T18:26:43.777371Z",
     "iopub.status.busy": "2022-03-28T18:26:43.776986Z",
     "iopub.status.idle": "2022-03-28T18:26:43.800696Z",
     "shell.execute_reply": "2022-03-28T18:26:43.799813Z",
     "shell.execute_reply.started": "2022-03-28T18:26:43.777327Z"
    }
   },
   "outputs": [
    {
     "data": {
      "text/html": [
       "<div>\n",
       "<style scoped>\n",
       "    .dataframe tbody tr th:only-of-type {\n",
       "        vertical-align: middle;\n",
       "    }\n",
       "\n",
       "    .dataframe tbody tr th {\n",
       "        vertical-align: top;\n",
       "    }\n",
       "\n",
       "    .dataframe thead th {\n",
       "        text-align: right;\n",
       "    }\n",
       "</style>\n",
       "<table border=\"1\" class=\"dataframe\">\n",
       "  <thead>\n",
       "    <tr style=\"text-align: right;\">\n",
       "      <th></th>\n",
       "      <th>email_hash</th>\n",
       "      <th>ctc</th>\n",
       "      <th>mean2 ctc</th>\n",
       "    </tr>\n",
       "  </thead>\n",
       "  <tbody>\n",
       "    <tr>\n",
       "      <th>81289</th>\n",
       "      <td>f04a0228e5af6f8f6ecc33e089892e80d85b3c749b3244...</td>\n",
       "      <td>4000000</td>\n",
       "      <td>1.533750e+06</td>\n",
       "    </tr>\n",
       "    <tr>\n",
       "      <th>56231</th>\n",
       "      <td>a63f3f44de7586430615a8a9bd13d41e7b0d541ca0f690...</td>\n",
       "      <td>4200000</td>\n",
       "      <td>1.862000e+06</td>\n",
       "    </tr>\n",
       "    <tr>\n",
       "      <th>16846</th>\n",
       "      <td>31616edfc502824631b11793313d35d5bb2288319dcb25...</td>\n",
       "      <td>3800000</td>\n",
       "      <td>1.513842e+06</td>\n",
       "    </tr>\n",
       "    <tr>\n",
       "      <th>21441</th>\n",
       "      <td>3efbb8c4d67b4a4c6ba4c639cd84e9ff98b85d5f57d82f...</td>\n",
       "      <td>3979999</td>\n",
       "      <td>1.716000e+06</td>\n",
       "    </tr>\n",
       "    <tr>\n",
       "      <th>33512</th>\n",
       "      <td>62f705ba342cb9e51117446a5522c2e42c14db27b9b20e...</td>\n",
       "      <td>4250000</td>\n",
       "      <td>2.025000e+06</td>\n",
       "    </tr>\n",
       "    <tr>\n",
       "      <th>83396</th>\n",
       "      <td>f67ae342b7431f7ab05eca998d904647b02711538aa839...</td>\n",
       "      <td>3750000</td>\n",
       "      <td>1.565556e+06</td>\n",
       "    </tr>\n",
       "    <tr>\n",
       "      <th>83524</th>\n",
       "      <td>f6e8c41a40ec308c996d498e22729359d2b564cae037a0...</td>\n",
       "      <td>3500000</td>\n",
       "      <td>1.410000e+06</td>\n",
       "    </tr>\n",
       "    <tr>\n",
       "      <th>191</th>\n",
       "      <td>009ded427ebcb5c2fb1970017a683693a7abef0fa96f5e...</td>\n",
       "      <td>3900000</td>\n",
       "      <td>1.834333e+06</td>\n",
       "    </tr>\n",
       "    <tr>\n",
       "      <th>79529</th>\n",
       "      <td>eb35a5d34977c6135372e46d6cc4f85332f1a4f9578bd5...</td>\n",
       "      <td>4080000</td>\n",
       "      <td>2.020000e+06</td>\n",
       "    </tr>\n",
       "    <tr>\n",
       "      <th>36086</th>\n",
       "      <td>6aa8cfeb5b98da66158e0af4ca8869362174abdba84a02...</td>\n",
       "      <td>3200000</td>\n",
       "      <td>1.233235e+06</td>\n",
       "    </tr>\n",
       "  </tbody>\n",
       "</table>\n",
       "</div>"
      ],
      "text/plain": [
       "                                              email_hash      ctc  \\\n",
       "81289  f04a0228e5af6f8f6ecc33e089892e80d85b3c749b3244...  4000000   \n",
       "56231  a63f3f44de7586430615a8a9bd13d41e7b0d541ca0f690...  4200000   \n",
       "16846  31616edfc502824631b11793313d35d5bb2288319dcb25...  3800000   \n",
       "21441  3efbb8c4d67b4a4c6ba4c639cd84e9ff98b85d5f57d82f...  3979999   \n",
       "33512  62f705ba342cb9e51117446a5522c2e42c14db27b9b20e...  4250000   \n",
       "83396  f67ae342b7431f7ab05eca998d904647b02711538aa839...  3750000   \n",
       "83524  f6e8c41a40ec308c996d498e22729359d2b564cae037a0...  3500000   \n",
       "191    009ded427ebcb5c2fb1970017a683693a7abef0fa96f5e...  3900000   \n",
       "79529  eb35a5d34977c6135372e46d6cc4f85332f1a4f9578bd5...  4080000   \n",
       "36086  6aa8cfeb5b98da66158e0af4ca8869362174abdba84a02...  3200000   \n",
       "\n",
       "          mean2 ctc  \n",
       "81289  1.533750e+06  \n",
       "56231  1.862000e+06  \n",
       "16846  1.513842e+06  \n",
       "21441  1.716000e+06  \n",
       "33512  2.025000e+06  \n",
       "83396  1.565556e+06  \n",
       "83524  1.410000e+06  \n",
       "191    1.834333e+06  \n",
       "79529  2.020000e+06  \n",
       "36086  1.233235e+06  "
      ]
     },
     "execution_count": 37,
     "metadata": {},
     "output_type": "execute_result"
    }
   ],
   "source": [
    "datatmp[(datatmp['Tier'] == 1)&(datatmp['Class'] == 1)&(datatmp['job_position'].isin(['Data Science Analyst','Data Scientist','Data Scientist II','Associate Data Scientist','Senior Data Scientist']))].sort_values('diff_class',ascending=False).head(10)[['email_hash','ctc','mean2 ctc']]"
   ]
  },
  {
   "cell_type": "markdown",
   "metadata": {},
   "source": [
    "<b> Bottom 10 employees of data science etc earning less than their peers - Class 3</b>"
   ]
  },
  {
   "cell_type": "code",
   "execution_count": 38,
   "metadata": {
    "execution": {
     "iopub.execute_input": "2022-03-28T18:26:43.807121Z",
     "iopub.status.busy": "2022-03-28T18:26:43.806868Z",
     "iopub.status.idle": "2022-03-28T18:26:43.828467Z",
     "shell.execute_reply": "2022-03-28T18:26:43.827840Z",
     "shell.execute_reply.started": "2022-03-28T18:26:43.807093Z"
    }
   },
   "outputs": [
    {
     "data": {
      "text/html": [
       "<div>\n",
       "<style scoped>\n",
       "    .dataframe tbody tr th:only-of-type {\n",
       "        vertical-align: middle;\n",
       "    }\n",
       "\n",
       "    .dataframe tbody tr th {\n",
       "        vertical-align: top;\n",
       "    }\n",
       "\n",
       "    .dataframe thead th {\n",
       "        text-align: right;\n",
       "    }\n",
       "</style>\n",
       "<table border=\"1\" class=\"dataframe\">\n",
       "  <thead>\n",
       "    <tr style=\"text-align: right;\">\n",
       "      <th></th>\n",
       "      <th>email_hash</th>\n",
       "      <th>ctc</th>\n",
       "      <th>mean2 ctc</th>\n",
       "    </tr>\n",
       "  </thead>\n",
       "  <tbody>\n",
       "    <tr>\n",
       "      <th>14514</th>\n",
       "      <td>2a3136f6e2d03a3dbfa3f683e4ae1b744b4815a8e0177c...</td>\n",
       "      <td>1700000</td>\n",
       "      <td>3125000.0</td>\n",
       "    </tr>\n",
       "    <tr>\n",
       "      <th>55794</th>\n",
       "      <td>a4f1770283497277f8cd3b7cb04e9b5c3135815eebb4cf...</td>\n",
       "      <td>2300000</td>\n",
       "      <td>3292500.0</td>\n",
       "    </tr>\n",
       "    <tr>\n",
       "      <th>48870</th>\n",
       "      <td>9069f6772b1e7959734a115bf49b2168a888608496af50...</td>\n",
       "      <td>1900000</td>\n",
       "      <td>2850000.0</td>\n",
       "    </tr>\n",
       "    <tr>\n",
       "      <th>82770</th>\n",
       "      <td>f49bd18e7fe914929f6cc23bb4e7979d58290119f2adcf...</td>\n",
       "      <td>1600000</td>\n",
       "      <td>2500000.0</td>\n",
       "    </tr>\n",
       "    <tr>\n",
       "      <th>51648</th>\n",
       "      <td>987a063524741381c302a096e4b019f46088e519f59f4a...</td>\n",
       "      <td>2000000</td>\n",
       "      <td>2750000.0</td>\n",
       "    </tr>\n",
       "    <tr>\n",
       "      <th>65945</th>\n",
       "      <td>c371eff30d6983ab69401441f359fed64397f7699c7aff...</td>\n",
       "      <td>1630000</td>\n",
       "      <td>2350000.0</td>\n",
       "    </tr>\n",
       "    <tr>\n",
       "      <th>79574</th>\n",
       "      <td>eb5552cf683e3072a7e2e2c6e63ebb46183a716b2bd2a1...</td>\n",
       "      <td>1780000</td>\n",
       "      <td>2496000.0</td>\n",
       "    </tr>\n",
       "    <tr>\n",
       "      <th>2812</th>\n",
       "      <td>080c3b2cc8fe9e7743520a3771a3b4db72e49ef2542ebf...</td>\n",
       "      <td>1400000</td>\n",
       "      <td>1986000.0</td>\n",
       "    </tr>\n",
       "    <tr>\n",
       "      <th>26908</th>\n",
       "      <td>4fcbc73fbd3da62f8750d69c13846ada4d1302f4817865...</td>\n",
       "      <td>1700000</td>\n",
       "      <td>2250000.0</td>\n",
       "    </tr>\n",
       "    <tr>\n",
       "      <th>61631</th>\n",
       "      <td>b63f00fbd2f8774eccde057bbf3f99ae1742adf496b2cc...</td>\n",
       "      <td>1600000</td>\n",
       "      <td>2102500.0</td>\n",
       "    </tr>\n",
       "  </tbody>\n",
       "</table>\n",
       "</div>"
      ],
      "text/plain": [
       "                                              email_hash      ctc  mean2 ctc\n",
       "14514  2a3136f6e2d03a3dbfa3f683e4ae1b744b4815a8e0177c...  1700000  3125000.0\n",
       "55794  a4f1770283497277f8cd3b7cb04e9b5c3135815eebb4cf...  2300000  3292500.0\n",
       "48870  9069f6772b1e7959734a115bf49b2168a888608496af50...  1900000  2850000.0\n",
       "82770  f49bd18e7fe914929f6cc23bb4e7979d58290119f2adcf...  1600000  2500000.0\n",
       "51648  987a063524741381c302a096e4b019f46088e519f59f4a...  2000000  2750000.0\n",
       "65945  c371eff30d6983ab69401441f359fed64397f7699c7aff...  1630000  2350000.0\n",
       "79574  eb5552cf683e3072a7e2e2c6e63ebb46183a716b2bd2a1...  1780000  2496000.0\n",
       "2812   080c3b2cc8fe9e7743520a3771a3b4db72e49ef2542ebf...  1400000  1986000.0\n",
       "26908  4fcbc73fbd3da62f8750d69c13846ada4d1302f4817865...  1700000  2250000.0\n",
       "61631  b63f00fbd2f8774eccde057bbf3f99ae1742adf496b2cc...  1600000  2102500.0"
      ]
     },
     "execution_count": 38,
     "metadata": {},
     "output_type": "execute_result"
    }
   ],
   "source": [
    "datatmp[(datatmp['Tier'] == 1)&(datatmp['Class'] == 3)&(datatmp['job_position'].isin(['Data Science Analyst','Data Scientist','Data Scientist II','Associate Data Scientist','Senior Data Scientist']))].sort_values('diff_class',ascending=True).head(10)[['email_hash','ctc','mean2 ctc']]"
   ]
  },
  {
   "cell_type": "markdown",
   "metadata": {},
   "source": [
    "<b> Bottom 10 employees (earning less than most of the employees in the company)- Tier 3</b>"
   ]
  },
  {
   "cell_type": "code",
   "execution_count": 39,
   "metadata": {
    "execution": {
     "iopub.execute_input": "2022-03-28T18:26:43.830086Z",
     "iopub.status.busy": "2022-03-28T18:26:43.829677Z",
     "iopub.status.idle": "2022-03-28T18:26:43.868724Z",
     "shell.execute_reply": "2022-03-28T18:26:43.867845Z",
     "shell.execute_reply.started": "2022-03-28T18:26:43.830045Z"
    }
   },
   "outputs": [
    {
     "data": {
      "text/html": [
       "<div>\n",
       "<style scoped>\n",
       "    .dataframe tbody tr th:only-of-type {\n",
       "        vertical-align: middle;\n",
       "    }\n",
       "\n",
       "    .dataframe tbody tr th {\n",
       "        vertical-align: top;\n",
       "    }\n",
       "\n",
       "    .dataframe thead th {\n",
       "        text-align: right;\n",
       "    }\n",
       "</style>\n",
       "<table border=\"1\" class=\"dataframe\">\n",
       "  <thead>\n",
       "    <tr style=\"text-align: right;\">\n",
       "      <th></th>\n",
       "      <th>email_hash</th>\n",
       "      <th>ctc</th>\n",
       "      <th>mean3 ctc</th>\n",
       "    </tr>\n",
       "  </thead>\n",
       "  <tbody>\n",
       "    <tr>\n",
       "      <th>12121</th>\n",
       "      <td>2322345290a1926df62347d45f06b68932e219cb010bf8...</td>\n",
       "      <td>850000</td>\n",
       "      <td>3.262923e+06</td>\n",
       "    </tr>\n",
       "    <tr>\n",
       "      <th>64065</th>\n",
       "      <td>bda6e0f742115289a27f304078935331a5563d90c91461...</td>\n",
       "      <td>750000</td>\n",
       "      <td>2.929000e+06</td>\n",
       "    </tr>\n",
       "    <tr>\n",
       "      <th>15908</th>\n",
       "      <td>2e7e946b56a245338d8da1daf60ef851031c9964cffd25...</td>\n",
       "      <td>950000</td>\n",
       "      <td>2.950000e+06</td>\n",
       "    </tr>\n",
       "    <tr>\n",
       "      <th>4334</th>\n",
       "      <td>0c535bb44414d62cab133425339bd7e156ec79823899ae...</td>\n",
       "      <td>810000</td>\n",
       "      <td>2.770000e+06</td>\n",
       "    </tr>\n",
       "    <tr>\n",
       "      <th>73476</th>\n",
       "      <td>d96a6540ff59456abe30f51f68e954388b1f6922c4bb0c...</td>\n",
       "      <td>900000</td>\n",
       "      <td>2.840543e+06</td>\n",
       "    </tr>\n",
       "    <tr>\n",
       "      <th>49904</th>\n",
       "      <td>935480e039d80833292d858a553a4bc0f628b9b97ce9ec...</td>\n",
       "      <td>900000</td>\n",
       "      <td>2.840543e+06</td>\n",
       "    </tr>\n",
       "    <tr>\n",
       "      <th>19346</th>\n",
       "      <td>38d71a484d7663f7c14df8432620bbbab718933173a295...</td>\n",
       "      <td>1368000</td>\n",
       "      <td>3.262923e+06</td>\n",
       "    </tr>\n",
       "    <tr>\n",
       "      <th>70292</th>\n",
       "      <td>d034e386dbce817ee1ea099b161379d3341af0a16573d8...</td>\n",
       "      <td>800000</td>\n",
       "      <td>2.683125e+06</td>\n",
       "    </tr>\n",
       "    <tr>\n",
       "      <th>36006</th>\n",
       "      <td>6a6d1a4452505b678e264700fd0c28f247c4522d27f112...</td>\n",
       "      <td>770000</td>\n",
       "      <td>2.637273e+06</td>\n",
       "    </tr>\n",
       "    <tr>\n",
       "      <th>2612</th>\n",
       "      <td>077fd3f95d8dbf89c112a8eca6601db3729f51b53b57a0...</td>\n",
       "      <td>720000</td>\n",
       "      <td>2.577054e+06</td>\n",
       "    </tr>\n",
       "  </tbody>\n",
       "</table>\n",
       "</div>"
      ],
      "text/plain": [
       "                                              email_hash      ctc  \\\n",
       "12121  2322345290a1926df62347d45f06b68932e219cb010bf8...   850000   \n",
       "64065  bda6e0f742115289a27f304078935331a5563d90c91461...   750000   \n",
       "15908  2e7e946b56a245338d8da1daf60ef851031c9964cffd25...   950000   \n",
       "4334   0c535bb44414d62cab133425339bd7e156ec79823899ae...   810000   \n",
       "73476  d96a6540ff59456abe30f51f68e954388b1f6922c4bb0c...   900000   \n",
       "49904  935480e039d80833292d858a553a4bc0f628b9b97ce9ec...   900000   \n",
       "19346  38d71a484d7663f7c14df8432620bbbab718933173a295...  1368000   \n",
       "70292  d034e386dbce817ee1ea099b161379d3341af0a16573d8...   800000   \n",
       "36006  6a6d1a4452505b678e264700fd0c28f247c4522d27f112...   770000   \n",
       "2612   077fd3f95d8dbf89c112a8eca6601db3729f51b53b57a0...   720000   \n",
       "\n",
       "          mean3 ctc  \n",
       "12121  3.262923e+06  \n",
       "64065  2.929000e+06  \n",
       "15908  2.950000e+06  \n",
       "4334   2.770000e+06  \n",
       "73476  2.840543e+06  \n",
       "49904  2.840543e+06  \n",
       "19346  3.262923e+06  \n",
       "70292  2.683125e+06  \n",
       "36006  2.637273e+06  \n",
       "2612   2.577054e+06  "
      ]
     },
     "execution_count": 39,
     "metadata": {},
     "output_type": "execute_result"
    }
   ],
   "source": [
    "datatmp[datatmp['Tier'] == 3].sort_values('diff_tier',ascending=True).head(10)[['email_hash','ctc','mean3 ctc']]"
   ]
  },
  {
   "cell_type": "markdown",
   "metadata": {},
   "source": [
    "<b>Top 10 employees in each compant - X department - having 5/6/7 years of experience earning more than their peers - Tier X</b>"
   ]
  },
  {
   "cell_type": "code",
   "execution_count": 40,
   "metadata": {
    "execution": {
     "iopub.execute_input": "2022-03-28T18:26:43.870488Z",
     "iopub.status.busy": "2022-03-28T18:26:43.870250Z",
     "iopub.status.idle": "2022-03-28T18:26:43.891041Z",
     "shell.execute_reply": "2022-03-28T18:26:43.890205Z",
     "shell.execute_reply.started": "2022-03-28T18:26:43.870460Z"
    }
   },
   "outputs": [
    {
     "data": {
      "text/html": [
       "<div>\n",
       "<style scoped>\n",
       "    .dataframe tbody tr th:only-of-type {\n",
       "        vertical-align: middle;\n",
       "    }\n",
       "\n",
       "    .dataframe tbody tr th {\n",
       "        vertical-align: top;\n",
       "    }\n",
       "\n",
       "    .dataframe thead th {\n",
       "        text-align: right;\n",
       "    }\n",
       "</style>\n",
       "<table border=\"1\" class=\"dataframe\">\n",
       "  <thead>\n",
       "    <tr style=\"text-align: right;\">\n",
       "      <th></th>\n",
       "      <th>email_hash</th>\n",
       "      <th>ctc</th>\n",
       "      <th>mean ctc</th>\n",
       "    </tr>\n",
       "  </thead>\n",
       "  <tbody>\n",
       "    <tr>\n",
       "      <th>14808</th>\n",
       "      <td>2b10e1d996c6ab5e175eea35ca25ea7afbaacd1237ab64...</td>\n",
       "      <td>4200000</td>\n",
       "      <td>1.275938e+06</td>\n",
       "    </tr>\n",
       "    <tr>\n",
       "      <th>76180</th>\n",
       "      <td>e15abfd41c005995728191e49ef001e83e813cd3ed5104...</td>\n",
       "      <td>4240000</td>\n",
       "      <td>1.428571e+06</td>\n",
       "    </tr>\n",
       "    <tr>\n",
       "      <th>28145</th>\n",
       "      <td>5369fce00d9472aa22a3c84e68262ea0ac39ab79233ff4...</td>\n",
       "      <td>3940000</td>\n",
       "      <td>1.315000e+06</td>\n",
       "    </tr>\n",
       "    <tr>\n",
       "      <th>54832</th>\n",
       "      <td>a1f32c1afc78650a5701dd0b32c15590d383a02520a755...</td>\n",
       "      <td>4000000</td>\n",
       "      <td>1.494364e+06</td>\n",
       "    </tr>\n",
       "    <tr>\n",
       "      <th>29686</th>\n",
       "      <td>57d94bc528dd63c4bbe8395b8e4f445a6a408d2bba098c...</td>\n",
       "      <td>3700000</td>\n",
       "      <td>1.222462e+06</td>\n",
       "    </tr>\n",
       "    <tr>\n",
       "      <th>9990</th>\n",
       "      <td>1cbc2f4ff908528b918606b070f93b1e644cb956b83e79...</td>\n",
       "      <td>3900000</td>\n",
       "      <td>1.494364e+06</td>\n",
       "    </tr>\n",
       "    <tr>\n",
       "      <th>83926</th>\n",
       "      <td>f8290f622b9904a8a2aa521f377875b34a4dd49ebe8569...</td>\n",
       "      <td>4000000</td>\n",
       "      <td>1.652500e+06</td>\n",
       "    </tr>\n",
       "    <tr>\n",
       "      <th>79570</th>\n",
       "      <td>eb52f0c03bb7163207c29b0380fc6b1a252d8e8e7dbc1d...</td>\n",
       "      <td>4200000</td>\n",
       "      <td>1.949091e+06</td>\n",
       "    </tr>\n",
       "    <tr>\n",
       "      <th>5466</th>\n",
       "      <td>0f86a269256bf66fef7c75058bb28ad1cd6ba51b0326e3...</td>\n",
       "      <td>3800000</td>\n",
       "      <td>1.566667e+06</td>\n",
       "    </tr>\n",
       "    <tr>\n",
       "      <th>51375</th>\n",
       "      <td>97abe6dee0970f81601f16d0c0795aba57bacdf8fac51c...</td>\n",
       "      <td>3800000</td>\n",
       "      <td>1.601507e+06</td>\n",
       "    </tr>\n",
       "  </tbody>\n",
       "</table>\n",
       "</div>"
      ],
      "text/plain": [
       "                                              email_hash      ctc  \\\n",
       "14808  2b10e1d996c6ab5e175eea35ca25ea7afbaacd1237ab64...  4200000   \n",
       "76180  e15abfd41c005995728191e49ef001e83e813cd3ed5104...  4240000   \n",
       "28145  5369fce00d9472aa22a3c84e68262ea0ac39ab79233ff4...  3940000   \n",
       "54832  a1f32c1afc78650a5701dd0b32c15590d383a02520a755...  4000000   \n",
       "29686  57d94bc528dd63c4bbe8395b8e4f445a6a408d2bba098c...  3700000   \n",
       "9990   1cbc2f4ff908528b918606b070f93b1e644cb956b83e79...  3900000   \n",
       "83926  f8290f622b9904a8a2aa521f377875b34a4dd49ebe8569...  4000000   \n",
       "79570  eb52f0c03bb7163207c29b0380fc6b1a252d8e8e7dbc1d...  4200000   \n",
       "5466   0f86a269256bf66fef7c75058bb28ad1cd6ba51b0326e3...  3800000   \n",
       "51375  97abe6dee0970f81601f16d0c0795aba57bacdf8fac51c...  3800000   \n",
       "\n",
       "           mean ctc  \n",
       "14808  1.275938e+06  \n",
       "76180  1.428571e+06  \n",
       "28145  1.315000e+06  \n",
       "54832  1.494364e+06  \n",
       "29686  1.222462e+06  \n",
       "9990   1.494364e+06  \n",
       "83926  1.652500e+06  \n",
       "79570  1.949091e+06  \n",
       "5466   1.566667e+06  \n",
       "51375  1.601507e+06  "
      ]
     },
     "execution_count": 40,
     "metadata": {},
     "output_type": "execute_result"
    }
   ],
   "source": [
    "datatmp[(datatmp['YoE'].isin([5,6,7]))&(datatmp['company_hash'])].sort_values('diff_desig',ascending=False).head(10)[['email_hash','ctc','mean ctc']]"
   ]
  },
  {
   "cell_type": "markdown",
   "metadata": {},
   "source": [
    "<div style=\"font-family:verdana; word-spacing:1.5px;\">\n",
    "<p style=\"background-color:#33e0ff;color:white;text-align:center;font-size:175%;padding: 10px;\">Preparing data for training model(Imputation/Scaling)</p>\n",
    "</div>    "
   ]
  },
  {
   "cell_type": "code",
   "execution_count": 41,
   "metadata": {
    "execution": {
     "iopub.execute_input": "2022-03-28T18:26:44.225366Z",
     "iopub.status.busy": "2022-03-28T18:26:44.225031Z",
     "iopub.status.idle": "2022-03-28T18:26:44.265657Z",
     "shell.execute_reply": "2022-03-28T18:26:44.264922Z",
     "shell.execute_reply.started": "2022-03-28T18:26:44.225327Z"
    }
   },
   "outputs": [
    {
     "data": {
      "text/html": [
       "<div>\n",
       "<style scoped>\n",
       "    .dataframe tbody tr th:only-of-type {\n",
       "        vertical-align: middle;\n",
       "    }\n",
       "\n",
       "    .dataframe tbody tr th {\n",
       "        vertical-align: top;\n",
       "    }\n",
       "\n",
       "    .dataframe thead th {\n",
       "        text-align: right;\n",
       "    }\n",
       "</style>\n",
       "<table border=\"1\" class=\"dataframe\">\n",
       "  <thead>\n",
       "    <tr style=\"text-align: right;\">\n",
       "      <th></th>\n",
       "      <th>email_hash</th>\n",
       "      <th>Unnamed: 0</th>\n",
       "      <th>company_hash</th>\n",
       "      <th>orgyear</th>\n",
       "      <th>ctc</th>\n",
       "      <th>job_position</th>\n",
       "      <th>ctc_updated_year</th>\n",
       "      <th>orgyear_na</th>\n",
       "      <th>ctc_updated_year_na</th>\n",
       "      <th>company_hash_na</th>\n",
       "      <th>job_position_na</th>\n",
       "      <th>YoE</th>\n",
       "      <th>company_hash_encode</th>\n",
       "      <th>job_position_encode</th>\n",
       "    </tr>\n",
       "  </thead>\n",
       "  <tbody>\n",
       "    <tr>\n",
       "      <th>0</th>\n",
       "      <td>00003288036a44374976948c327f246fdbdf0778546904...</td>\n",
       "      <td>84782</td>\n",
       "      <td>Bxwqgogen</td>\n",
       "      <td>2012.0</td>\n",
       "      <td>3500000</td>\n",
       "      <td>Backend Engineer</td>\n",
       "      <td>2019.0</td>\n",
       "      <td>False</td>\n",
       "      <td>False</td>\n",
       "      <td>False</td>\n",
       "      <td>False</td>\n",
       "      <td>7.0</td>\n",
       "      <td>0.010160</td>\n",
       "      <td>2431.717315</td>\n",
       "    </tr>\n",
       "    <tr>\n",
       "      <th>3</th>\n",
       "      <td>000120d0c8aa304fcf12ab4b85e21feb80a342cfea03d4...</td>\n",
       "      <td>53905</td>\n",
       "      <td>Bxwqgotbx Wgqugqvnxgz</td>\n",
       "      <td>2004.0</td>\n",
       "      <td>2000000</td>\n",
       "      <td>FullStack Engineer</td>\n",
       "      <td>2021.0</td>\n",
       "      <td>False</td>\n",
       "      <td>False</td>\n",
       "      <td>False</td>\n",
       "      <td>False</td>\n",
       "      <td>17.0</td>\n",
       "      <td>0.000072</td>\n",
       "      <td>1319.056588</td>\n",
       "    </tr>\n",
       "    <tr>\n",
       "      <th>4</th>\n",
       "      <td>00014d71a389170e668ba96ae8e1f9d991591acc899025...</td>\n",
       "      <td>138707</td>\n",
       "      <td>Fvrbvqn Rvmo</td>\n",
       "      <td>2009.0</td>\n",
       "      <td>3400000</td>\n",
       "      <td>na</td>\n",
       "      <td>2018.0</td>\n",
       "      <td>False</td>\n",
       "      <td>False</td>\n",
       "      <td>False</td>\n",
       "      <td>True</td>\n",
       "      <td>9.0</td>\n",
       "      <td>0.003760</td>\n",
       "      <td>1318.079026</td>\n",
       "    </tr>\n",
       "    <tr>\n",
       "      <th>6</th>\n",
       "      <td>00022dc29c7f77032275182b883d4f273ea1007aefc437...</td>\n",
       "      <td>7782</td>\n",
       "      <td>Xzeqvwrgha Ntwyzgrgsxto</td>\n",
       "      <td>2016.0</td>\n",
       "      <td>750000</td>\n",
       "      <td>Frontend Engineer</td>\n",
       "      <td>2019.0</td>\n",
       "      <td>False</td>\n",
       "      <td>False</td>\n",
       "      <td>False</td>\n",
       "      <td>False</td>\n",
       "      <td>3.0</td>\n",
       "      <td>0.000026</td>\n",
       "      <td>604.263472</td>\n",
       "    </tr>\n",
       "    <tr>\n",
       "      <th>7</th>\n",
       "      <td>00036c2c5212d88d07acdc5bda7eef5653f8b09bbe30b7...</td>\n",
       "      <td>30543</td>\n",
       "      <td>Ocu Xnivz Gbvz</td>\n",
       "      <td>2011.0</td>\n",
       "      <td>2300000</td>\n",
       "      <td>Other</td>\n",
       "      <td>2021.0</td>\n",
       "      <td>False</td>\n",
       "      <td>False</td>\n",
       "      <td>False</td>\n",
       "      <td>False</td>\n",
       "      <td>10.0</td>\n",
       "      <td>0.000007</td>\n",
       "      <td>1026.830810</td>\n",
       "    </tr>\n",
       "    <tr>\n",
       "      <th>...</th>\n",
       "      <td>...</td>\n",
       "      <td>...</td>\n",
       "      <td>...</td>\n",
       "      <td>...</td>\n",
       "      <td>...</td>\n",
       "      <td>...</td>\n",
       "      <td>...</td>\n",
       "      <td>...</td>\n",
       "      <td>...</td>\n",
       "      <td>...</td>\n",
       "      <td>...</td>\n",
       "      <td>...</td>\n",
       "      <td>...</td>\n",
       "      <td>...</td>\n",
       "    </tr>\n",
       "    <tr>\n",
       "      <th>153432</th>\n",
       "      <td>fffa3a7b849802580a1972f11d192b43ff1c871bb43002...</td>\n",
       "      <td>79890</td>\n",
       "      <td>Nvnv Wgzohrnvzwj Otqcxwto</td>\n",
       "      <td>2014.0</td>\n",
       "      <td>1800000</td>\n",
       "      <td>Backend Engineer</td>\n",
       "      <td>2019.0</td>\n",
       "      <td>False</td>\n",
       "      <td>False</td>\n",
       "      <td>False</td>\n",
       "      <td>False</td>\n",
       "      <td>5.0</td>\n",
       "      <td>0.034221</td>\n",
       "      <td>2431.717315</td>\n",
       "    </tr>\n",
       "    <tr>\n",
       "      <th>153438</th>\n",
       "      <td>fffc254e627e4bd1bc0ed7f01f9aebbba7c3cc56ac914e...</td>\n",
       "      <td>39683</td>\n",
       "      <td>Tqxwoogz Ogenfvqt Wvbuho</td>\n",
       "      <td>2004.0</td>\n",
       "      <td>3529999</td>\n",
       "      <td>QA Engineer</td>\n",
       "      <td>2019.0</td>\n",
       "      <td>False</td>\n",
       "      <td>False</td>\n",
       "      <td>False</td>\n",
       "      <td>False</td>\n",
       "      <td>15.0</td>\n",
       "      <td>0.000007</td>\n",
       "      <td>401.973371</td>\n",
       "    </tr>\n",
       "    <tr>\n",
       "      <th>153439</th>\n",
       "      <td>fffcf97db1e9c13898f4eb4cd1c2fe862358480e104535...</td>\n",
       "      <td>186656</td>\n",
       "      <td>Trnqvcg</td>\n",
       "      <td>2015.0</td>\n",
       "      <td>1600000</td>\n",
       "      <td>na</td>\n",
       "      <td>2018.0</td>\n",
       "      <td>False</td>\n",
       "      <td>False</td>\n",
       "      <td>False</td>\n",
       "      <td>True</td>\n",
       "      <td>3.0</td>\n",
       "      <td>0.000007</td>\n",
       "      <td>1318.079026</td>\n",
       "    </tr>\n",
       "    <tr>\n",
       "      <th>153440</th>\n",
       "      <td>fffe7552892f8ca5fb8647d49ca805b72ea0e9538b6b01...</td>\n",
       "      <td>148878</td>\n",
       "      <td>Znn Avnv Srgmvr Atrxctqj Otqcxwto</td>\n",
       "      <td>2014.0</td>\n",
       "      <td>900000</td>\n",
       "      <td>Devops Engineer</td>\n",
       "      <td>2019.0</td>\n",
       "      <td>False</td>\n",
       "      <td>False</td>\n",
       "      <td>False</td>\n",
       "      <td>False</td>\n",
       "      <td>5.0</td>\n",
       "      <td>0.000124</td>\n",
       "      <td>279.908500</td>\n",
       "    </tr>\n",
       "    <tr>\n",
       "      <th>153442</th>\n",
       "      <td>ffffa3eb3575f43b86d986911463dce7bcadcea227e5a4...</td>\n",
       "      <td>117170</td>\n",
       "      <td>Sgrabvz Ovwyo</td>\n",
       "      <td>2018.0</td>\n",
       "      <td>1500000</td>\n",
       "      <td>FullStack Engineer</td>\n",
       "      <td>2021.0</td>\n",
       "      <td>False</td>\n",
       "      <td>False</td>\n",
       "      <td>False</td>\n",
       "      <td>False</td>\n",
       "      <td>3.0</td>\n",
       "      <td>0.003793</td>\n",
       "      <td>1319.056588</td>\n",
       "    </tr>\n",
       "  </tbody>\n",
       "</table>\n",
       "<p>86464 rows × 14 columns</p>\n",
       "</div>"
      ],
      "text/plain": [
       "                                               email_hash  Unnamed: 0  \\\n",
       "0       00003288036a44374976948c327f246fdbdf0778546904...       84782   \n",
       "3       000120d0c8aa304fcf12ab4b85e21feb80a342cfea03d4...       53905   \n",
       "4       00014d71a389170e668ba96ae8e1f9d991591acc899025...      138707   \n",
       "6       00022dc29c7f77032275182b883d4f273ea1007aefc437...        7782   \n",
       "7       00036c2c5212d88d07acdc5bda7eef5653f8b09bbe30b7...       30543   \n",
       "...                                                   ...         ...   \n",
       "153432  fffa3a7b849802580a1972f11d192b43ff1c871bb43002...       79890   \n",
       "153438  fffc254e627e4bd1bc0ed7f01f9aebbba7c3cc56ac914e...       39683   \n",
       "153439  fffcf97db1e9c13898f4eb4cd1c2fe862358480e104535...      186656   \n",
       "153440  fffe7552892f8ca5fb8647d49ca805b72ea0e9538b6b01...      148878   \n",
       "153442  ffffa3eb3575f43b86d986911463dce7bcadcea227e5a4...      117170   \n",
       "\n",
       "                             company_hash  orgyear      ctc  \\\n",
       "0                               Bxwqgogen   2012.0  3500000   \n",
       "3                   Bxwqgotbx Wgqugqvnxgz   2004.0  2000000   \n",
       "4                            Fvrbvqn Rvmo   2009.0  3400000   \n",
       "6                 Xzeqvwrgha Ntwyzgrgsxto   2016.0   750000   \n",
       "7                          Ocu Xnivz Gbvz   2011.0  2300000   \n",
       "...                                   ...      ...      ...   \n",
       "153432          Nvnv Wgzohrnvzwj Otqcxwto   2014.0  1800000   \n",
       "153438           Tqxwoogz Ogenfvqt Wvbuho   2004.0  3529999   \n",
       "153439                            Trnqvcg   2015.0  1600000   \n",
       "153440  Znn Avnv Srgmvr Atrxctqj Otqcxwto   2014.0   900000   \n",
       "153442                      Sgrabvz Ovwyo   2018.0  1500000   \n",
       "\n",
       "              job_position  ctc_updated_year  orgyear_na  ctc_updated_year_na  \\\n",
       "0         Backend Engineer            2019.0       False                False   \n",
       "3       FullStack Engineer            2021.0       False                False   \n",
       "4                       na            2018.0       False                False   \n",
       "6        Frontend Engineer            2019.0       False                False   \n",
       "7                    Other            2021.0       False                False   \n",
       "...                    ...               ...         ...                  ...   \n",
       "153432    Backend Engineer            2019.0       False                False   \n",
       "153438         QA Engineer            2019.0       False                False   \n",
       "153439                  na            2018.0       False                False   \n",
       "153440     Devops Engineer            2019.0       False                False   \n",
       "153442  FullStack Engineer            2021.0       False                False   \n",
       "\n",
       "        company_hash_na  job_position_na   YoE  company_hash_encode  \\\n",
       "0                 False            False   7.0             0.010160   \n",
       "3                 False            False  17.0             0.000072   \n",
       "4                 False             True   9.0             0.003760   \n",
       "6                 False            False   3.0             0.000026   \n",
       "7                 False            False  10.0             0.000007   \n",
       "...                 ...              ...   ...                  ...   \n",
       "153432            False            False   5.0             0.034221   \n",
       "153438            False            False  15.0             0.000007   \n",
       "153439            False             True   3.0             0.000007   \n",
       "153440            False            False   5.0             0.000124   \n",
       "153442            False            False   3.0             0.003793   \n",
       "\n",
       "        job_position_encode  \n",
       "0               2431.717315  \n",
       "3               1319.056588  \n",
       "4               1318.079026  \n",
       "6                604.263472  \n",
       "7               1026.830810  \n",
       "...                     ...  \n",
       "153432          2431.717315  \n",
       "153438           401.973371  \n",
       "153439          1318.079026  \n",
       "153440           279.908500  \n",
       "153442          1319.056588  \n",
       "\n",
       "[86464 rows x 14 columns]"
      ]
     },
     "execution_count": 41,
     "metadata": {},
     "output_type": "execute_result"
    }
   ],
   "source": [
    "data = dateda.copy()\n",
    "data"
   ]
  },
  {
   "cell_type": "markdown",
   "metadata": {},
   "source": [
    "<b>Transforming ctc feature using log function</b>"
   ]
  },
  {
   "cell_type": "code",
   "execution_count": 42,
   "metadata": {
    "execution": {
     "iopub.execute_input": "2022-03-28T18:26:44.267128Z",
     "iopub.status.busy": "2022-03-28T18:26:44.266904Z",
     "iopub.status.idle": "2022-03-28T18:26:44.272635Z",
     "shell.execute_reply": "2022-03-28T18:26:44.271938Z",
     "shell.execute_reply.started": "2022-03-28T18:26:44.267101Z"
    }
   },
   "outputs": [],
   "source": [
    "data['ctc_log'] = np.log2(data['ctc'])"
   ]
  },
  {
   "cell_type": "markdown",
   "metadata": {},
   "source": [
    "<b> Columns like ['normalized_company_name','job_position','email_hash','Unnamed: 0','company'] are text.<br> We can't use them during imputation, so we'll remove these columns</b>"
   ]
  },
  {
   "cell_type": "code",
   "execution_count": 43,
   "metadata": {
    "execution": {
     "iopub.execute_input": "2022-03-28T18:26:44.274928Z",
     "iopub.status.busy": "2022-03-28T18:26:44.273755Z",
     "iopub.status.idle": "2022-03-28T18:26:44.322066Z",
     "shell.execute_reply": "2022-03-28T18:26:44.321142Z",
     "shell.execute_reply.started": "2022-03-28T18:26:44.274882Z"
    }
   },
   "outputs": [],
   "source": [
    "drop_cols = ['job_position','email_hash','Unnamed: 0','company_hash']\n",
    "for i in drop_cols:\n",
    "    try:\n",
    "        data.drop([i],axis=1,inplace=True)\n",
    "    except:\n",
    "        print('no')"
   ]
  },
  {
   "cell_type": "code",
   "execution_count": 44,
   "metadata": {
    "execution": {
     "iopub.execute_input": "2022-03-28T18:26:44.323596Z",
     "iopub.status.busy": "2022-03-28T18:26:44.323215Z",
     "iopub.status.idle": "2022-03-28T18:26:44.329079Z",
     "shell.execute_reply": "2022-03-28T18:26:44.328244Z",
     "shell.execute_reply.started": "2022-03-28T18:26:44.323567Z"
    }
   },
   "outputs": [
    {
     "data": {
      "text/plain": [
       "Index(['orgyear', 'ctc', 'ctc_updated_year', 'orgyear_na',\n",
       "       'ctc_updated_year_na', 'company_hash_na', 'job_position_na', 'YoE',\n",
       "       'company_hash_encode', 'job_position_encode', 'ctc_log'],\n",
       "      dtype='object')"
      ]
     },
     "execution_count": 44,
     "metadata": {},
     "output_type": "execute_result"
    }
   ],
   "source": [
    "data.columns"
   ]
  },
  {
   "cell_type": "code",
   "execution_count": 45,
   "metadata": {
    "execution": {
     "iopub.execute_input": "2022-03-28T18:26:44.330816Z",
     "iopub.status.busy": "2022-03-28T18:26:44.330043Z",
     "iopub.status.idle": "2022-03-28T18:26:44.350674Z",
     "shell.execute_reply": "2022-03-28T18:26:44.350060Z",
     "shell.execute_reply.started": "2022-03-28T18:26:44.330754Z"
    }
   },
   "outputs": [
    {
     "name": "stdout",
     "output_type": "stream",
     "text": [
      "<class 'pandas.core.frame.DataFrame'>\n",
      "Index: 86464 entries, 0 to 153442\n",
      "Data columns (total 11 columns):\n",
      " #   Column               Non-Null Count  Dtype  \n",
      "---  ------               --------------  -----  \n",
      " 0   orgyear              86424 non-null  float64\n",
      " 1   ctc                  86464 non-null  int64  \n",
      " 2   ctc_updated_year     86464 non-null  float64\n",
      " 3   orgyear_na           86464 non-null  bool   \n",
      " 4   ctc_updated_year_na  86464 non-null  bool   \n",
      " 5   company_hash_na      86464 non-null  bool   \n",
      " 6   job_position_na      86464 non-null  bool   \n",
      " 7   YoE                  86424 non-null  float64\n",
      " 8   company_hash_encode  86464 non-null  float64\n",
      " 9   job_position_encode  86464 non-null  float64\n",
      " 10  ctc_log              86464 non-null  float64\n",
      "dtypes: bool(4), float64(6), int64(1)\n",
      "memory usage: 7.6 MB\n"
     ]
    }
   ],
   "source": [
    "data.info()"
   ]
  },
  {
   "cell_type": "markdown",
   "metadata": {},
   "source": [
    "<b>Summary Statistics</b>"
   ]
  },
  {
   "cell_type": "code",
   "execution_count": 46,
   "metadata": {
    "execution": {
     "iopub.execute_input": "2022-03-28T18:26:44.352111Z",
     "iopub.status.busy": "2022-03-28T18:26:44.351603Z",
     "iopub.status.idle": "2022-03-28T18:26:44.404249Z",
     "shell.execute_reply": "2022-03-28T18:26:44.403434Z",
     "shell.execute_reply.started": "2022-03-28T18:26:44.352080Z"
    }
   },
   "outputs": [
    {
     "data": {
      "text/html": [
       "<div>\n",
       "<style scoped>\n",
       "    .dataframe tbody tr th:only-of-type {\n",
       "        vertical-align: middle;\n",
       "    }\n",
       "\n",
       "    .dataframe tbody tr th {\n",
       "        vertical-align: top;\n",
       "    }\n",
       "\n",
       "    .dataframe thead th {\n",
       "        text-align: right;\n",
       "    }\n",
       "</style>\n",
       "<table border=\"1\" class=\"dataframe\">\n",
       "  <thead>\n",
       "    <tr style=\"text-align: right;\">\n",
       "      <th></th>\n",
       "      <th>orgyear</th>\n",
       "      <th>ctc</th>\n",
       "      <th>ctc_updated_year</th>\n",
       "      <th>YoE</th>\n",
       "      <th>company_hash_encode</th>\n",
       "      <th>job_position_encode</th>\n",
       "      <th>ctc_log</th>\n",
       "    </tr>\n",
       "  </thead>\n",
       "  <tbody>\n",
       "    <tr>\n",
       "      <th>count</th>\n",
       "      <td>86424.000000</td>\n",
       "      <td>8.646400e+04</td>\n",
       "      <td>86464.000000</td>\n",
       "      <td>86424.000000</td>\n",
       "      <td>86464.000000</td>\n",
       "      <td>86464.000000</td>\n",
       "      <td>86464.000000</td>\n",
       "    </tr>\n",
       "    <tr>\n",
       "      <th>mean</th>\n",
       "      <td>2013.804626</td>\n",
       "      <td>1.626541e+06</td>\n",
       "      <td>2019.441432</td>\n",
       "      <td>5.636906</td>\n",
       "      <td>0.002635</td>\n",
       "      <td>1209.717807</td>\n",
       "      <td>20.474913</td>\n",
       "    </tr>\n",
       "    <tr>\n",
       "      <th>std</th>\n",
       "      <td>4.354664</td>\n",
       "      <td>8.080584e+05</td>\n",
       "      <td>1.283791</td>\n",
       "      <td>4.225522</td>\n",
       "      <td>0.005558</td>\n",
       "      <td>878.504184</td>\n",
       "      <td>0.662649</td>\n",
       "    </tr>\n",
       "    <tr>\n",
       "      <th>min</th>\n",
       "      <td>1970.000000</td>\n",
       "      <td>7.040000e+05</td>\n",
       "      <td>2015.000000</td>\n",
       "      <td>0.000000</td>\n",
       "      <td>0.000007</td>\n",
       "      <td>0.065171</td>\n",
       "      <td>19.425216</td>\n",
       "    </tr>\n",
       "    <tr>\n",
       "      <th>25%</th>\n",
       "      <td>2012.000000</td>\n",
       "      <td>1.000000e+06</td>\n",
       "      <td>2019.000000</td>\n",
       "      <td>3.000000</td>\n",
       "      <td>0.000033</td>\n",
       "      <td>319.141310</td>\n",
       "      <td>19.931569</td>\n",
       "    </tr>\n",
       "    <tr>\n",
       "      <th>50%</th>\n",
       "      <td>2015.000000</td>\n",
       "      <td>1.400000e+06</td>\n",
       "      <td>2019.000000</td>\n",
       "      <td>5.000000</td>\n",
       "      <td>0.000371</td>\n",
       "      <td>1318.079026</td>\n",
       "      <td>20.416995</td>\n",
       "    </tr>\n",
       "    <tr>\n",
       "      <th>75%</th>\n",
       "      <td>2017.000000</td>\n",
       "      <td>2.000000e+06</td>\n",
       "      <td>2020.000000</td>\n",
       "      <td>8.000000</td>\n",
       "      <td>0.002170</td>\n",
       "      <td>2431.717315</td>\n",
       "      <td>20.931569</td>\n",
       "    </tr>\n",
       "    <tr>\n",
       "      <th>max</th>\n",
       "      <td>2021.000000</td>\n",
       "      <td>4.250000e+06</td>\n",
       "      <td>2021.000000</td>\n",
       "      <td>51.000000</td>\n",
       "      <td>0.034221</td>\n",
       "      <td>2431.717315</td>\n",
       "      <td>22.019031</td>\n",
       "    </tr>\n",
       "  </tbody>\n",
       "</table>\n",
       "</div>"
      ],
      "text/plain": [
       "            orgyear           ctc  ctc_updated_year           YoE  \\\n",
       "count  86424.000000  8.646400e+04      86464.000000  86424.000000   \n",
       "mean    2013.804626  1.626541e+06       2019.441432      5.636906   \n",
       "std        4.354664  8.080584e+05          1.283791      4.225522   \n",
       "min     1970.000000  7.040000e+05       2015.000000      0.000000   \n",
       "25%     2012.000000  1.000000e+06       2019.000000      3.000000   \n",
       "50%     2015.000000  1.400000e+06       2019.000000      5.000000   \n",
       "75%     2017.000000  2.000000e+06       2020.000000      8.000000   \n",
       "max     2021.000000  4.250000e+06       2021.000000     51.000000   \n",
       "\n",
       "       company_hash_encode  job_position_encode       ctc_log  \n",
       "count         86464.000000         86464.000000  86464.000000  \n",
       "mean              0.002635          1209.717807     20.474913  \n",
       "std               0.005558           878.504184      0.662649  \n",
       "min               0.000007             0.065171     19.425216  \n",
       "25%               0.000033           319.141310     19.931569  \n",
       "50%               0.000371          1318.079026     20.416995  \n",
       "75%               0.002170          2431.717315     20.931569  \n",
       "max               0.034221          2431.717315     22.019031  "
      ]
     },
     "execution_count": 46,
     "metadata": {},
     "output_type": "execute_result"
    }
   ],
   "source": [
    "data.describe()"
   ]
  },
  {
   "cell_type": "code",
   "execution_count": 47,
   "metadata": {
    "execution": {
     "iopub.execute_input": "2022-03-28T18:26:44.407345Z",
     "iopub.status.busy": "2022-03-28T18:26:44.406901Z",
     "iopub.status.idle": "2022-03-28T18:26:44.416055Z",
     "shell.execute_reply": "2022-03-28T18:26:44.415424Z",
     "shell.execute_reply.started": "2022-03-28T18:26:44.407315Z"
    }
   },
   "outputs": [
    {
     "data": {
      "text/plain": [
       "orgyear                40\n",
       "ctc                     0\n",
       "ctc_updated_year        0\n",
       "orgyear_na              0\n",
       "ctc_updated_year_na     0\n",
       "company_hash_na         0\n",
       "job_position_na         0\n",
       "YoE                    40\n",
       "company_hash_encode     0\n",
       "job_position_encode     0\n",
       "ctc_log                 0\n",
       "dtype: int64"
      ]
     },
     "execution_count": 47,
     "metadata": {},
     "output_type": "execute_result"
    }
   ],
   "source": [
    "data.isna().sum()"
   ]
  },
  {
   "cell_type": "markdown",
   "metadata": {},
   "source": [
    "<div style=\"font-family:verdana; word-spacing:1.5px;\">\n",
    "<p style=\"background-color:#33e0ff;color:white;text-align:center;font-size:175%;padding: 10px;\">Training Model</p>\n",
    "</div>    "
   ]
  },
  {
   "cell_type": "code",
   "execution_count": 48,
   "metadata": {
    "execution": {
     "iopub.execute_input": "2022-03-28T18:26:44.417471Z",
     "iopub.status.busy": "2022-03-28T18:26:44.417057Z",
     "iopub.status.idle": "2022-03-28T18:26:44.539645Z",
     "shell.execute_reply": "2022-03-28T18:26:44.538963Z",
     "shell.execute_reply.started": "2022-03-28T18:26:44.417440Z"
    }
   },
   "outputs": [],
   "source": [
    "from sklearn.impute import KNNImputer\n",
    "from sklearn.pipeline import Pipeline\n",
    "from sklearn.preprocessing import StandardScaler\n",
    "from sklearn.impute import SimpleImputer\n",
    "from sklearn.cluster import MiniBatchKMeans, KMeans\n",
    "from sklearn.metrics import silhouette_score\n",
    "from sklearn.cluster import KMeans\n",
    "from sklearn.decomposition import PCA"
   ]
  },
  {
   "cell_type": "markdown",
   "metadata": {},
   "source": [
    "<div style=\"font-family:verdana; word-spacing:1.5px;\">\n",
    "    <p style=\"text-align:center;font-size:175%;padding: 10px;\"><b>Kmeans clustering</b></p>\n",
    "    </div>\n",
    "    "
   ]
  },
  {
   "cell_type": "code",
   "execution_count": 49,
   "metadata": {
    "execution": {
     "iopub.execute_input": "2022-03-28T18:26:44.541148Z",
     "iopub.status.busy": "2022-03-28T18:26:44.540722Z",
     "iopub.status.idle": "2022-03-28T18:26:44.548299Z",
     "shell.execute_reply": "2022-03-28T18:26:44.547697Z",
     "shell.execute_reply.started": "2022-03-28T18:26:44.541119Z"
    }
   },
   "outputs": [],
   "source": [
    "pipe_knn = Pipeline([('scaler', StandardScaler()), ('knn_imputer',  KNNImputer(n_neighbors=2, weights=\"uniform\"))])\n",
    "pipe_knn_5 = Pipeline([('scaler', StandardScaler()), ('knn_imputer',  KNNImputer(n_neighbors=5, weights=\"uniform\"))])\n",
    "pipe = Pipeline([('scaler', StandardScaler()), ('simple_imputer',  SimpleImputer(missing_values=np.nan, strategy='mean'))])\n",
    "pipe_knn_pca = Pipeline([('scaler', StandardScaler()), ('knn_imputer',  KNNImputer(n_neighbors=2, weights=\"uniform\")),('pca',PCA(n_components=8))])\n",
    "pipe_unscaled = Pipeline([('knn_imputer',  KNNImputer(n_neighbors=5, weights=\"uniform\"))])\n"
   ]
  },
  {
   "cell_type": "markdown",
   "metadata": {},
   "source": [
    "<b> Finding optimal num of clusters using Elbow method</b>"
   ]
  },
  {
   "cell_type": "code",
   "execution_count": 50,
   "metadata": {
    "execution": {
     "iopub.execute_input": "2022-03-28T18:26:44.549595Z",
     "iopub.status.busy": "2022-03-28T18:26:44.549382Z",
     "iopub.status.idle": "2022-03-28T18:27:30.643963Z",
     "shell.execute_reply": "2022-03-28T18:27:30.642856Z",
     "shell.execute_reply.started": "2022-03-28T18:26:44.549567Z"
    },
    "scrolled": false
   },
   "outputs": [
    {
     "name": "stdout",
     "output_type": "stream",
     "text": [
      "Running for  KNN Immputation\n"
     ]
    },
    {
     "data": {
      "image/png": "[encoded data removed]",
      "text/plain": [
       "<Figure size 1008x504 with 1 Axes>"
      ]
     },
     "metadata": {
      "needs_background": "light"
     },
     "output_type": "display_data"
    },
    {
     "name": "stdout",
     "output_type": "stream",
     "text": [
      "Running for  KNN Imputation with (default) 5 neighbours\n"
     ]
    },
    {
     "data": {
      "image/png": "[encoded data removed]",
      "text/plain": [
       "<Figure size 1008x504 with 1 Axes>"
      ]
     },
     "metadata": {
      "needs_background": "light"
     },
     "output_type": "display_data"
    },
    {
     "name": "stdout",
     "output_type": "stream",
     "text": [
      "Running for  Mean Imputation \n"
     ]
    },
    {
     "data": {
      "image/png": "[encoded data removed]",
      "text/plain": [
       "<Figure size 1008x504 with 1 Axes>"
      ]
     },
     "metadata": {
      "needs_background": "light"
     },
     "output_type": "display_data"
    },
    {
     "name": "stdout",
     "output_type": "stream",
     "text": [
      "Running for  KNN Immputation + PCA\n"
     ]
    },
    {
     "data": {
      "image/png": "[encoded data removed]",
      "text/plain": [
       "<Figure size 1008x504 with 1 Axes>"
      ]
     },
     "metadata": {
      "needs_background": "light"
     },
     "output_type": "display_data"
    },
    {
     "name": "stdout",
     "output_type": "stream",
     "text": [
      "Running for  KNN Imputation Unscaled data\n"
     ]
    },
    {
     "data": {
      "image/png": "[encoded data removed]",
      "text/plain": [
       "<Figure size 1008x504 with 1 Axes>"
      ]
     },
     "metadata": {
      "needs_background": "light"
     },
     "output_type": "display_data"
    }
   ],
   "source": [
    "for name,pipeline in [('KNN Immputation',pipe_knn),('KNN Imputation with (default) 5 neighbours',pipe_knn_5),('Mean Imputation ',pipe),\n",
    "                      ('KNN Immputation + PCA', pipe_knn_pca),('KNN Imputation Unscaled data',pipe_unscaled )]:\n",
    "\n",
    "    X = pipeline.fit_transform(data)\n",
    "    X = pd.DataFrame(X)\n",
    "    if \"PCA\" not in name :\n",
    "        X.columns= data.columns\n",
    "\n",
    "    sse = {}\n",
    "    #sil_score = {}\n",
    "    print(\"Running for \",name)\n",
    "    for k in range(1, 30):\n",
    "        #print('K :',k)\n",
    "        kmeans = MiniBatchKMeans(init=\"k-means++\",n_clusters=k,\n",
    "                              random_state=0).fit(X)\n",
    "        label = kmeans.labels_\n",
    "        data[\"clusters\"] = label\n",
    "        #print(data[\"clusters\"])\n",
    "        sse[k] = kmeans.inertia_ \n",
    "\n",
    "        #sil_score[k] = silhouette_score(X, label, metric='euclidean')\n",
    "\n",
    "    plt.figure(figsize=(14,7))\n",
    "    plt.plot(list(sse.keys()), list(sse.values()),'b-',label='Sum of squared error')\n",
    "    plt.xlabel(\"Number of cluster\")\n",
    "    plt.ylabel(\"SSE\")\n",
    "    plt.title(\"Plot for \"+name)\n",
    "    plt.show()\n",
    "\n",
    "\n"
   ]
  },
  {
   "cell_type": "markdown",
   "metadata": {},
   "source": [
    "<h2><b>Insights</b></h2>\n",
    "\n",
    "<table>\n",
    "<tbody>\n",
    "<tr style=\"height: 23px;\">\n",
    "<td style=\"height: 23px;\">Model</td>\n",
    "<td style=\"height: 23px;\">n_clusters</td>\n",
    "</tr>\n",
    "<tr style=\"height: 23px;\">\n",
    "<td style=\"height: 23px;\">KNN Immputation</td>\n",
    "<td style=\"height: 23px;\">&nbsp;16</td>\n",
    "</tr>\n",
    "<tr style=\"height: 23px;\">\n",
    "<td style=\"height: 23px;\">KNN Imputation with (default) 5 neighbours</td>\n",
    "<td style=\"height: 23px;\">&nbsp;20</td>\n",
    "</tr>\n",
    "<tr style=\"height: 23px;\">\n",
    "<td style=\"height: 23px;\">Mean Imputation</td>\n",
    "<td style=\"height: 23px;\">&nbsp;25</td>\n",
    "</tr>\n",
    "<tr style=\"height: 23px;\">\n",
    "<td style=\"height: 23px;\">KNN Immputation + PCA</td>\n",
    "<td style=\"height: 23px;\">&nbsp;21</td>\n",
    "</tr>\n",
    "<tr style=\"height: 23.5px;\">\n",
    "<td style=\"height: 23.5px;\">KNN Imputation Unscaled data</td>\n",
    "<td style=\"height: 23.5px;\">&nbsp;5</td>\n",
    "</tr>\n",
    "</tbody>\n",
    "</table>\n",
    "<br>\n",
    "<br>\n",
    "<b> Number of clusters is around 16-20 for scaled data, while around 5 for unscaled data</b>"
   ]
  },
  {
   "cell_type": "code",
   "execution_count": 51,
   "metadata": {
    "execution": {
     "iopub.execute_input": "2022-03-28T18:27:30.647862Z",
     "iopub.status.busy": "2022-03-28T18:27:30.647204Z",
     "iopub.status.idle": "2022-03-28T18:27:30.652474Z",
     "shell.execute_reply": "2022-03-28T18:27:30.651891Z",
     "shell.execute_reply.started": "2022-03-28T18:27:30.647789Z"
    }
   },
   "outputs": [],
   "source": [
    "from sklearn.cluster import AgglomerativeClustering\n",
    "from scipy.cluster.hierarchy import dendrogram"
   ]
  },
  {
   "cell_type": "markdown",
   "metadata": {},
   "source": [
    "<div style=\"font-family:verdana; word-spacing:1.5px;\">\n",
    "    <p style=\"text-align:center;font-size:175%;padding: 10px;\"><b>Agglomerative Clustering</b></p>\n",
    "    </div>\n",
    "    "
   ]
  },
  {
   "cell_type": "code",
   "execution_count": 52,
   "metadata": {
    "execution": {
     "iopub.execute_input": "2022-03-28T18:27:30.653920Z",
     "iopub.status.busy": "2022-03-28T18:27:30.653486Z",
     "iopub.status.idle": "2022-03-28T18:27:30.674169Z",
     "shell.execute_reply": "2022-03-28T18:27:30.673156Z",
     "shell.execute_reply.started": "2022-03-28T18:27:30.653885Z"
    }
   },
   "outputs": [
    {
     "data": {
      "text/plain": [
       "(17293, 12)"
      ]
     },
     "execution_count": 52,
     "metadata": {},
     "output_type": "execute_result"
    }
   ],
   "source": [
    "tmp = X.sample(frac=0.2)\n",
    "\n",
    "tmp.shape"
   ]
  },
  {
   "cell_type": "code",
   "execution_count": 53,
   "metadata": {
    "execution": {
     "iopub.execute_input": "2022-03-28T18:27:30.676811Z",
     "iopub.status.busy": "2022-03-28T18:27:30.675834Z",
     "iopub.status.idle": "2022-03-28T18:27:30.685340Z",
     "shell.execute_reply": "2022-03-28T18:27:30.684439Z",
     "shell.execute_reply.started": "2022-03-28T18:27:30.676751Z"
    }
   },
   "outputs": [],
   "source": [
    "def plot_dendrogram(model, **kwargs):\n",
    "    # Create linkage matrix and then plot the dendrogram\n",
    "\n",
    "    # create the counts of samples under each node\n",
    "    counts = np.zeros(model.children_.shape[0])\n",
    "    n_samples = len(model.labels_)\n",
    "    for i, merge in enumerate(model.children_):\n",
    "        current_count = 0\n",
    "        for child_idx in merge:\n",
    "            if child_idx < n_samples:\n",
    "                current_count += 1  # leaf node\n",
    "            else:\n",
    "                current_count += counts[child_idx - n_samples]\n",
    "        counts[i] = current_count\n",
    "\n",
    "    linkage_matrix = np.column_stack(\n",
    "        [model.children_, model.distances_, counts]\n",
    "    ).astype(float)\n",
    "\n",
    "    # Plot the corresponding dendrogram\n",
    "    \n",
    "    dendrogram(linkage_matrix, **kwargs)"
   ]
  },
  {
   "cell_type": "code",
   "execution_count": 54,
   "metadata": {
    "execution": {
     "iopub.execute_input": "2022-03-28T18:27:30.686818Z",
     "iopub.status.busy": "2022-03-28T18:27:30.686500Z",
     "iopub.status.idle": "2022-03-28T18:27:47.753625Z",
     "shell.execute_reply": "2022-03-28T18:27:47.752921Z",
     "shell.execute_reply.started": "2022-03-28T18:27:30.686776Z"
    }
   },
   "outputs": [
    {
     "data": {
      "image/png": "[encoded data removed]",
      "text/plain": [
       "<Figure size 1800x1440 with 1 Axes>"
      ]
     },
     "metadata": {
      "needs_background": "light"
     },
     "output_type": "display_data"
    }
   ],
   "source": [
    "\n",
    "model = AgglomerativeClustering(distance_threshold =0, n_clusters=None, compute_distances=True,linkage='average').fit(tmp)\n",
    "\n",
    "plt.figure(figsize=(25,20))\n",
    "plt.title(\"Hierarchical Clustering Dendrogram (Avg Linkage)\")\n",
    "plot_dendrogram(model, truncate_mode=\"level\", p=6)\n",
    "plt.xlabel(\"Number of points in node (or index of point if no parenthesis).\")\n",
    "plt.show()"
   ]
  },
  {
   "cell_type": "code",
   "execution_count": 55,
   "metadata": {
    "execution": {
     "iopub.execute_input": "2022-03-28T18:27:47.755082Z",
     "iopub.status.busy": "2022-03-28T18:27:47.754842Z",
     "iopub.status.idle": "2022-03-28T18:28:04.047563Z",
     "shell.execute_reply": "2022-03-28T18:28:04.046681Z",
     "shell.execute_reply.started": "2022-03-28T18:27:47.755057Z"
    }
   },
   "outputs": [
    {
     "data": {
      "image/png": "[encoded data removed]",
      "text/plain": [
       "<Figure size 1800x1440 with 1 Axes>"
      ]
     },
     "metadata": {
      "needs_background": "light"
     },
     "output_type": "display_data"
    }
   ],
   "source": [
    "\n",
    "model = AgglomerativeClustering(distance_threshold =0, n_clusters=None, compute_distances=True,linkage='complete').fit(tmp)\n",
    "\n",
    "plt.figure(figsize=(25,20))\n",
    "plt.title(\"Hierarchical Clustering Dendrogram (Complete Linkage)\")\n",
    "plot_dendrogram(model, truncate_mode=\"level\", p=6)\n",
    "plt.xlabel(\"Number of points in node (or index of point if no parenthesis).\")\n",
    "plt.show()"
   ]
  },
  {
   "cell_type": "code",
   "execution_count": 56,
   "metadata": {
    "execution": {
     "iopub.execute_input": "2022-03-28T18:28:04.049597Z",
     "iopub.status.busy": "2022-03-28T18:28:04.048884Z",
     "iopub.status.idle": "2022-03-28T18:28:20.501666Z",
     "shell.execute_reply": "2022-03-28T18:28:20.500855Z",
     "shell.execute_reply.started": "2022-03-28T18:28:04.049561Z"
    }
   },
   "outputs": [
    {
     "data": {
      "image/png": "[encoded data removed]",
      "text/plain": [
       "<Figure size 1800x1440 with 1 Axes>"
      ]
     },
     "metadata": {
      "needs_background": "light"
     },
     "output_type": "display_data"
    }
   ],
   "source": [
    "\n",
    "model = AgglomerativeClustering(n_clusters=17, compute_distances=True,linkage='average').fit(tmp)\n",
    "\n",
    "plt.figure(figsize=(25,20))\n",
    "plt.title(\"Hierarchical Clustering Dendrogram (Avg Linkage)\")\n",
    "plot_dendrogram(model, truncate_mode=\"level\", p=6)\n",
    "plt.xlabel(\"Number of points in node (or index of point if no parenthesis).\")\n",
    "plt.show()"
   ]
  },
  {
   "cell_type": "code",
   "execution_count": 57,
   "metadata": {
    "execution": {
     "iopub.execute_input": "2022-03-28T18:28:20.503902Z",
     "iopub.status.busy": "2022-03-28T18:28:20.503038Z",
     "iopub.status.idle": "2022-03-28T18:28:36.918409Z",
     "shell.execute_reply": "2022-03-28T18:28:36.917018Z",
     "shell.execute_reply.started": "2022-03-28T18:28:20.503858Z"
    }
   },
   "outputs": [
    {
     "data": {
      "image/png": "[encoded data removed]",
      "text/plain": [
       "<Figure size 1800x1440 with 1 Axes>"
      ]
     },
     "metadata": {
      "needs_background": "light"
     },
     "output_type": "display_data"
    }
   ],
   "source": [
    "\n",
    "model = AgglomerativeClustering(n_clusters=17, compute_distances=True,linkage='complete').fit(tmp)\n",
    "\n",
    "plt.figure(figsize=(25,20))\n",
    "plt.title(\"Hierarchical Clustering Dendrogram (Complete Linkage)\")\n",
    "plot_dendrogram(model, truncate_mode=\"level\", p=6)\n",
    "plt.xlabel(\"Number of points in node (or index of point if no parenthesis).\")\n",
    "plt.show()"
   ]
  },
  {
   "cell_type": "code",
   "execution_count": 58,
   "metadata": {
    "execution": {
     "iopub.execute_input": "2022-03-28T18:28:36.920175Z",
     "iopub.status.busy": "2022-03-28T18:28:36.919849Z",
     "iopub.status.idle": "2022-03-28T18:28:42.770474Z",
     "shell.execute_reply": "2022-03-28T18:28:42.769530Z",
     "shell.execute_reply.started": "2022-03-28T18:28:36.920140Z"
    }
   },
   "outputs": [
    {
     "data": {
      "image/png": "[encoded data removed]",
      "text/plain": [
       "<Figure size 1800x1440 with 1 Axes>"
      ]
     },
     "metadata": {
      "needs_background": "light"
     },
     "output_type": "display_data"
    }
   ],
   "source": [
    "\n",
    "model = AgglomerativeClustering(n_clusters=5, compute_distances=True,linkage='single').fit(tmp)\n",
    "\n",
    "plt.figure(figsize=(25,20))\n",
    "plt.title(\"Hierarchical Clustering Dendrogram (Single Linkage)\")\n",
    "plot_dendrogram(model, truncate_mode=\"level\", p=6)\n",
    "plt.xlabel(\"Number of points in node (or index of point if no parenthesis).\")\n",
    "plt.show()"
   ]
  },
  {
   "cell_type": "markdown",
   "metadata": {},
   "source": [
    "<h2><b>Insights</b></h2>\n",
    "\n",
    "\n",
    "<br><br>\n",
    "<b> Number of clusters around 2 seems optimal in most cases, while in last plot(with single linkage) number of clusters around 16 is optimal</b>"
   ]
  },
  {
   "cell_type": "markdown",
   "metadata": {},
   "source": [
    "<div style=\"font-family:verdana; word-spacing:1.5px;\">\n",
    "<p style=\"background-color:#33e0ff;color:white;text-align:center;font-size:175%;padding: 10px;\">Insights/ Recommendations</p>\n",
    "</div>    "
   ]
  },
  {
   "cell_type": "markdown",
   "metadata": {},
   "source": [
    "<b>Insights</b>\n",
    "\n",
    "<ul>\n",
    "    <li> Top Paying job titles include 'Engineering Leadership',\n",
    " 'Backend Engineer',\n",
    " 'Product Manager',\n",
    " 'Program Manager',\n",
    " 'SDET',\n",
    " 'QA Engineer',\n",
    " 'Data Scientist',\n",
    " 'Android Engineer' and\n",
    " 'FullStack Engineer'.\n",
    "          <li> Avg CTC seems to be decreasing with year.\n",
    "\n",
    " </ul>"
   ]
  },
  {
   "cell_type": "markdown",
   "metadata": {
    "execution": {
     "iopub.execute_input": "2022-03-28T18:17:33.155593Z",
     "iopub.status.busy": "2022-03-28T18:17:33.155059Z",
     "iopub.status.idle": "2022-03-28T18:17:33.162971Z",
     "shell.execute_reply": "2022-03-28T18:17:33.161782Z",
     "shell.execute_reply.started": "2022-03-28T18:17:33.155555Z"
    }
   },
   "source": [
    "<b>Recommendations</b>\n",
    "\n",
    "<ul>\n",
    "<li> Freshers who want to work on technical side should look for roles related to Backend Engineer, SDET, QA engineer, Dataa Scientist, Android Engineer,Full stack engineer to get good salaries as expirience increases.\n",
    "\n",
    "</ul>\n"
   ]
  }
 ],
 "metadata": {
  "kernelspec": {
   "display_name": "Python 3 (ipykernel)",
   "language": "python",
   "name": "python3"
  },
  "language_info": {
   "codemirror_mode": {
    "name": "ipython",
    "version": 3
   },
   "file_extension": ".py",
   "mimetype": "text/x-python",
   "name": "python",
   "nbconvert_exporter": "python",
   "pygments_lexer": "ipython3",
   "version": "3.9.13"
  }
 },
 "nbformat": 4,
 "nbformat_minor": 4
}
